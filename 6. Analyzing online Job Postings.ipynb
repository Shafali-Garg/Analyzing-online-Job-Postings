{
 "cells": [
  {
   "cell_type": "code",
   "execution_count": 85,
   "metadata": {},
   "outputs": [],
   "source": [
    "#import required packages\n",
    "\n",
    "import pandas as pd \n",
    "import numpy as np\n",
    "import gc\n",
    "import time\n",
    "import warnings\n",
    "from scipy import sparse\n",
    "import scipy.stats as ss\n",
    "import matplotlib.pyplot as plt\n",
    "import matplotlib.gridspec as gridspec \n",
    "import seaborn as sns\n",
    "from wordcloud import WordCloud ,STOPWORDS\n",
    "from PIL import Image\n",
    "import string\n",
    "from nltk.util import ngrams\n",
    "import re \n",
    "import nltk\n",
    "from nltk.corpus import stopwords\n",
    "import spacy\n",
    "from nltk import pos_tag\n",
    "from nltk.stem.wordnet import WordNetLemmatizer \n",
    "from nltk.tokenize import word_tokenize\n",
    "from nltk.tokenize import TweetTokenizer   \n",
    "from sklearn.feature_extraction.text import TfidfVectorizer, CountVectorizer, HashingVectorizer, TfidfTransformer\n",
    "from sklearn.decomposition import TruncatedSVD\n",
    "from sklearn.base import BaseEstimator, ClassifierMixin\n",
    "from sklearn.utils.validation import check_X_y, check_is_fitted\n",
    "from sklearn import model_selection, preprocessing, linear_model, naive_bayes, metrics, svm, decomposition, ensemble\n",
    "from sklearn.linear_model import LogisticRegression\n",
    "from sklearn.metrics import log_loss\n",
    "from sklearn.model_selection import StratifiedKFold\n",
    "from sklearn.model_selection import train_test_split\n",
    "import  textblob\n",
    "from textblob import TextBlob\n",
    "from nltk.stem import PorterStemmer\n",
    "import nltk\n",
    "#nltk.download('stopwords')\n",
    "#nltk.download('wordnet')\n",
    "from textblob import Word \n",
    "#nltk.download('punkt')\n",
    "#nltk.download('averaged_perceptron_tagger')\n",
    "import spacy\n",
    "from spacy import displacy\n",
    "from spacy.matcher import Matcher\n",
    "\n",
    "#settings\n",
    "start_time=time.time()\n",
    "color = sns.color_palette()\n",
    "sns.set_style(\"dark\")\n",
    "eng_stopwords = set(stopwords.words(\"english\"))\n",
    "warnings.filterwarnings(\"ignore\")\n",
    "lem = WordNetLemmatizer()\n",
    "tokenizer=TweetTokenizer()\n",
    "%matplotlib inline"
   ]
  },
  {
   "cell_type": "code",
   "execution_count": 10,
   "metadata": {},
   "outputs": [],
   "source": [
    "from sklearn.ensemble import RandomForestClassifier\n",
    "from sklearn.ensemble import GradientBoostingClassifier\n",
    "from sklearn.svm import SVC"
   ]
  },
  {
   "cell_type": "code",
   "execution_count": 11,
   "metadata": {},
   "outputs": [],
   "source": [
    "from sklearn.decomposition import TruncatedSVD,PCA\n",
    "from sklearn.preprocessing import normalize,Normalizer\n",
    "from sklearn.pipeline import make_pipeline\n",
    "from sklearn import metrics\n",
    "from sklearn.cluster import KMeans \n",
    "from sklearn.decomposition import TruncatedSVD,PCA\n",
    "from sklearn.preprocessing import normalize,Normalizer\n",
    "from sklearn.pipeline import make_pipeline\n",
    "from sklearn.metrics.pairwise import cosine_similarity\n",
    "from sklearn.metrics import silhouette_score,pairwise_distances"
   ]
  },
  {
   "cell_type": "markdown",
   "metadata": {},
   "source": [
    "# Importing data"
   ]
  },
  {
   "cell_type": "code",
   "execution_count": 185,
   "metadata": {},
   "outputs": [],
   "source": [
    "data_jobpost=pd.read_csv(\"D:/Analytix labs/Assignments & Case Studies/Final Projects/6. Analyzing online Job Postings/data job posts.csv\")"
   ]
  },
  {
   "cell_type": "code",
   "execution_count": 186,
   "metadata": {},
   "outputs": [],
   "source": [
    "data_jobpost_1 = data_jobpost"
   ]
  },
  {
   "cell_type": "code",
   "execution_count": 15,
   "metadata": {},
   "outputs": [
    {
     "name": "stdout",
     "output_type": "stream",
     "text": [
      "<class 'pandas.core.frame.DataFrame'>\n",
      "RangeIndex: 19001 entries, 0 to 19000\n",
      "Data columns (total 24 columns):\n",
      "jobpost             19001 non-null object\n",
      "date                19001 non-null object\n",
      "Title               18973 non-null object\n",
      "Company             18994 non-null object\n",
      "AnnouncementCode    1208 non-null object\n",
      "Term                7676 non-null object\n",
      "Eligibility         4930 non-null object\n",
      "Audience            640 non-null object\n",
      "StartDate           9675 non-null object\n",
      "Duration            10798 non-null object\n",
      "Location            18969 non-null object\n",
      "JobDescription      15109 non-null object\n",
      "JobRequirment       16479 non-null object\n",
      "RequiredQual        18517 non-null object\n",
      "Salary              9622 non-null object\n",
      "ApplicationP        18941 non-null object\n",
      "OpeningDate         18295 non-null object\n",
      "Deadline            18936 non-null object\n",
      "Notes               2211 non-null object\n",
      "AboutC              12470 non-null object\n",
      "Attach              1559 non-null object\n",
      "Year                19001 non-null int64\n",
      "Month               19001 non-null int64\n",
      "IT                  19001 non-null bool\n",
      "dtypes: bool(1), int64(2), object(21)\n",
      "memory usage: 3.4+ MB\n"
     ]
    }
   ],
   "source": [
    "data_jobpost.info()"
   ]
  },
  {
   "cell_type": "code",
   "execution_count": 16,
   "metadata": {},
   "outputs": [],
   "source": [
    "# Important columns\n",
    "data_jobpost=data_jobpost[['jobpost', 'Title', 'Company','JobDescription', 'JobRequirment', 'RequiredQual','AboutC','Year', 'Month', 'IT']]"
   ]
  },
  {
   "cell_type": "code",
   "execution_count": 18,
   "metadata": {},
   "outputs": [],
   "source": [
    "#Missing value Treatment\n",
    "data_jobpost[['Title', 'Company','JobDescription', 'JobRequirment', 'RequiredQual','AboutC']]=data_jobpost[['Title', 'Company','JobDescription', 'JobRequirment', 'RequiredQual','AboutC']].fillna(data_jobpost[['Title', 'Company','JobDescription', 'JobRequirment', 'RequiredQual','AboutC']].mode().ix[0])"
   ]
  },
  {
   "cell_type": "code",
   "execution_count": 19,
   "metadata": {},
   "outputs": [
    {
     "name": "stdout",
     "output_type": "stream",
     "text": [
      "<class 'pandas.core.frame.DataFrame'>\n",
      "RangeIndex: 19001 entries, 0 to 19000\n",
      "Data columns (total 10 columns):\n",
      "jobpost           19001 non-null object\n",
      "Title             19001 non-null object\n",
      "Company           19001 non-null object\n",
      "JobDescription    19001 non-null object\n",
      "JobRequirment     19001 non-null object\n",
      "RequiredQual      19001 non-null object\n",
      "AboutC            19001 non-null object\n",
      "Year              19001 non-null int64\n",
      "Month             19001 non-null int64\n",
      "IT                19001 non-null bool\n",
      "dtypes: bool(1), int64(2), object(7)\n",
      "memory usage: 1.3+ MB\n"
     ]
    }
   ],
   "source": [
    "data_jobpost.info()"
   ]
  },
  {
   "cell_type": "markdown",
   "metadata": {},
   "source": [
    "# Look at the no of Jobs posted by title, year, month, company"
   ]
  },
  {
   "cell_type": "code",
   "execution_count": 30,
   "metadata": {},
   "outputs": [
    {
     "name": "stdout",
     "output_type": "stream",
     "text": [
      "Job posts by title:\n",
      "Accountant                                356\n",
      "Chief Accountant                          219\n",
      "Medical Representative                    216\n",
      "Sales Manager                             166\n",
      "Administrative Assistant                  155\n",
      "Lawyer                                    151\n",
      "Software Developer                        134\n",
      "Project Manager                           117\n",
      "English Language Courses                  109\n",
      "Web Developer                             101\n",
      "Java Developer                             88\n",
      "Marketing Specialist                       87\n",
      "Office Manager                             85\n",
      "Receptionist/ Administrative Assistant     77\n",
      "Graphic Designer                           75\n",
      "System Administrator                       75\n",
      "Marketing Manager                          72\n",
      "Senior Java Developer                      69\n",
      "Software Engineer                          69\n",
      "QA Engineer                                66\n",
      "PHP Developer                              65\n",
      "Senior Software Engineer                   63\n",
      "Receptionist                               62\n",
      "Executive Assistant                        60\n",
      "Internal Auditor                           58\n",
      "Name: Title, dtype: int64\n",
      "\n",
      "\n",
      "Job posts by year:\n",
      "    Year  Job Posts\n",
      "11  2004         90\n",
      "10  2005        169\n",
      "8   2006        204\n",
      "5   2007        260\n",
      "4   2008        265\n",
      "9   2009        173\n",
      "7   2010        229\n",
      "6   2011        236\n",
      "0   2012        300\n",
      "1   2013        299\n",
      "3   2014        272\n",
      "2   2015        298\n"
     ]
    },
    {
     "data": {
      "image/png": "[encoded data removed]",
      "text/plain": [
       "<Figure size 432x288 with 1 Axes>"
      ]
     },
     "metadata": {
      "needs_background": "light"
     },
     "output_type": "display_data"
    },
    {
     "name": "stdout",
     "output_type": "stream",
     "text": [
      "\n",
      "\n",
      "Job posts by month:\n",
      "    Month  data\n",
      "10      1   222\n",
      "1       2   253\n",
      "0       3   256\n",
      "9       4   225\n",
      "6       5   229\n",
      "4       6   232\n",
      "7       7   228\n",
      "5       8   231\n",
      "2       9   250\n",
      "3      10   239\n",
      "8      11   227\n",
      "11     12   203\n"
     ]
    },
    {
     "data": {
      "image/png": "[encoded data removed]",
      "text/plain": [
       "<Figure size 432x288 with 1 Axes>"
      ]
     },
     "metadata": {
      "needs_background": "light"
     },
     "output_type": "display_data"
    },
    {
     "name": "stdout",
     "output_type": "stream",
     "text": [
      "\n",
      "\n",
      "Job posts by company:\n",
      "                                Company  Job Posts\n",
      "0                     Career Center NGO        178\n",
      "1                         SAS Group LLC         28\n",
      "2  Virtual Solution Global Services LLC         23\n",
      "3                         ArmenTel CJSC         23\n",
      "4                Boomerang Software LLC         21\n",
      "5                        IUNetworks LLC         17\n",
      "6                 Synopsys Armenia CJSC         15\n",
      "7                         Joomag AM LLC         15\n",
      "8         Energize Global Services CJSC         14\n",
      "9                    EPAM Systems, Inc.         14\n",
      "\n",
      "\n",
      "jobs posted by title in every year\n",
      "    Year  Title\n",
      "11  2004     90\n",
      "10  2005    169\n",
      "8   2006    204\n",
      "5   2007    260\n",
      "4   2008    265\n",
      "9   2009    173\n",
      "7   2010    229\n",
      "6   2011    236\n",
      "0   2012    300\n",
      "1   2013    299\n",
      "3   2014    272\n",
      "2   2015    298\n"
     ]
    }
   ],
   "source": [
    "# Number of job posted by titles\n",
    "titles = data_jobpost['Title'].value_counts()[:25]\n",
    "keys = titles.keys().to_list()\n",
    "data_jobpost = data_jobpost[data_jobpost['Title'].isin(keys)]\n",
    "print('Job posts by title:')\n",
    "print(data_jobpost['Title'].value_counts())\n",
    "\n",
    "# Number of job posted by year\n",
    "year=pd.DataFrame(data_jobpost.Year.value_counts().reset_index())\n",
    "year['Job Posts']=year.Year\n",
    "year['Year']=year['index']\n",
    "year.drop('index',axis=1,inplace=True)\n",
    "year.sort_values(by='Year',inplace=True)\n",
    "print('\\n')\n",
    "print('Job posts by year:')\n",
    "print(year)\n",
    "\n",
    "sns.barplot(x='Year',y='Job Posts',data=year)\n",
    "plt.show()\n",
    "\n",
    "# Number of job posted by month\n",
    "month=pd.DataFrame(data_jobpost.Month.value_counts().reset_index())\n",
    "month['data']=month.Month\n",
    "month['Month']=month['index']\n",
    "month.drop('index',axis=1,inplace=True)\n",
    "month.sort_values(by='Month',inplace=True)\n",
    "print('\\n')\n",
    "print('Job posts by month:')\n",
    "print(month)\n",
    "\n",
    "sns.barplot(x='Month',y='data',data=month)\n",
    "plt.show()\n",
    "\n",
    "# Number of job posted by company\n",
    "com=pd.DataFrame(data_jobpost.Company.value_counts().reset_index())\n",
    "com['Job Posts']=com.Company\n",
    "com['Company']=com['index']\n",
    "com.drop('index',axis=1,inplace=True)\n",
    "com.sort_values(by='Job Posts',inplace=True,ascending=False)\n",
    "print('\\n')\n",
    "print('Job posts by company:')\n",
    "print(com.head(10))\n",
    "\n",
    "# Numb er of jobs posted by title in every year\n",
    "yr=pd.DataFrame(data_jobpost.Year.value_counts().reset_index())\n",
    "yr['Title']=yr.Year\n",
    "yr['Year']=yr['index']\n",
    "yr.drop('index',axis=1,inplace=True)\n",
    "yr.sort_values(by='Year',inplace=True)\n",
    "print('\\n')\n",
    "print('jobs posted by title in every year')\n",
    "print(yr)"
   ]
  },
  {
   "cell_type": "markdown",
   "metadata": {},
   "source": [
    "# User defoned function for finding top job posting every year from 2004-2015"
   ]
  },
  {
   "cell_type": "code",
   "execution_count": 26,
   "metadata": {},
   "outputs": [],
   "source": [
    "year_range = [2004, 2005, 2006, 2007, 2008, 2009, 2010, 2011, 2012, 2013, 2014, 2015]"
   ]
  },
  {
   "cell_type": "code",
   "execution_count": 28,
   "metadata": {},
   "outputs": [
    {
     "name": "stdout",
     "output_type": "stream",
     "text": [
      "graph to show job posting for year 2004\n"
     ]
    },
    {
     "data": {
      "image/png": "[encoded data removed]",
      "text/plain": [
       "<Figure size 720x360 with 1 Axes>"
      ]
     },
     "metadata": {
      "needs_background": "light"
     },
     "output_type": "display_data"
    },
    {
     "name": "stdout",
     "output_type": "stream",
     "text": [
      "graph to show job posting for year 2005\n"
     ]
    },
    {
     "data": {
      "image/png": "[encoded data removed]",
      "text/plain": [
       "<Figure size 720x360 with 1 Axes>"
      ]
     },
     "metadata": {
      "needs_background": "light"
     },
     "output_type": "display_data"
    },
    {
     "name": "stdout",
     "output_type": "stream",
     "text": [
      "graph to show job posting for year 2006\n"
     ]
    },
    {
     "data": {
      "image/png": "[encoded data removed]",
      "text/plain": [
       "<Figure size 720x360 with 1 Axes>"
      ]
     },
     "metadata": {
      "needs_background": "light"
     },
     "output_type": "display_data"
    },
    {
     "name": "stdout",
     "output_type": "stream",
     "text": [
      "graph to show job posting for year 2007\n"
     ]
    },
    {
     "data": {
      "image/png": "[encoded data removed]",
      "text/plain": [
       "<Figure size 720x360 with 1 Axes>"
      ]
     },
     "metadata": {
      "needs_background": "light"
     },
     "output_type": "display_data"
    },
    {
     "name": "stdout",
     "output_type": "stream",
     "text": [
      "graph to show job posting for year 2008\n"
     ]
    },
    {
     "data": {
      "image/png": "[encoded data removed]",
      "text/plain": [
       "<Figure size 720x360 with 1 Axes>"
      ]
     },
     "metadata": {
      "needs_background": "light"
     },
     "output_type": "display_data"
    },
    {
     "name": "stdout",
     "output_type": "stream",
     "text": [
      "graph to show job posting for year 2009\n"
     ]
    },
    {
     "data": {
      "image/png": "[encoded data removed]",
      "text/plain": [
       "<Figure size 720x360 with 1 Axes>"
      ]
     },
     "metadata": {
      "needs_background": "light"
     },
     "output_type": "display_data"
    },
    {
     "name": "stdout",
     "output_type": "stream",
     "text": [
      "graph to show job posting for year 2010\n"
     ]
    },
    {
     "data": {
      "image/png": "[encoded data removed]",
      "text/plain": [
       "<Figure size 720x360 with 1 Axes>"
      ]
     },
     "metadata": {
      "needs_background": "light"
     },
     "output_type": "display_data"
    },
    {
     "name": "stdout",
     "output_type": "stream",
     "text": [
      "graph to show job posting for year 2011\n"
     ]
    },
    {
     "data": {
      "image/png": "[encoded data removed]",
      "text/plain": [
       "<Figure size 720x360 with 1 Axes>"
      ]
     },
     "metadata": {
      "needs_background": "light"
     },
     "output_type": "display_data"
    },
    {
     "name": "stdout",
     "output_type": "stream",
     "text": [
      "graph to show job posting for year 2012\n"
     ]
    },
    {
     "data": {
      "image/png": "[encoded data removed]",
      "text/plain": [
       "<Figure size 720x360 with 1 Axes>"
      ]
     },
     "metadata": {
      "needs_background": "light"
     },
     "output_type": "display_data"
    },
    {
     "name": "stdout",
     "output_type": "stream",
     "text": [
      "graph to show job posting for year 2013\n"
     ]
    },
    {
     "data": {
      "image/png": "[encoded data removed]",
      "text/plain": [
       "<Figure size 720x360 with 1 Axes>"
      ]
     },
     "metadata": {
      "needs_background": "light"
     },
     "output_type": "display_data"
    },
    {
     "name": "stdout",
     "output_type": "stream",
     "text": [
      "graph to show job posting for year 2014\n"
     ]
    },
    {
     "data": {
      "image/png": "[encoded data removed]",
      "text/plain": [
       "<Figure size 720x360 with 1 Axes>"
      ]
     },
     "metadata": {
      "needs_background": "light"
     },
     "output_type": "display_data"
    },
    {
     "name": "stdout",
     "output_type": "stream",
     "text": [
      "graph to show job posting for year 2015\n"
     ]
    },
    {
     "data": {
      "image/png": "[encoded data removed]",
      "text/plain": [
       "<Figure size 720x360 with 1 Axes>"
      ]
     },
     "metadata": {
      "needs_background": "light"
     },
     "output_type": "display_data"
    }
   ],
   "source": [
    "def jobpost_by_year(year_range):\n",
    "    for year_no in year_range:\n",
    "        year_1=data_jobpost[data_jobpost.Year==year_no].groupby('Title').count().sort_values('jobpost',ascending=False)\n",
    "        plt.figure(figsize=(10, 5))\n",
    "        year_1.jobpost.plot('barh')\n",
    "        print('graph to show job posting for year {}'.format(year_no))\n",
    "        plt.show()\n",
    "        \n",
    "jobpost_by_year(year_range)"
   ]
  },
  {
   "cell_type": "markdown",
   "metadata": {},
   "source": [
    "# Basic exploratory analysis"
   ]
  },
  {
   "cell_type": "code",
   "execution_count": 34,
   "metadata": {},
   "outputs": [
    {
     "name": "stderr",
     "output_type": "stream",
     "text": [
      "[nltk_data] Downloading package averaged_perceptron_tagger to\n",
      "[nltk_data]     C:\\Users\\dell\\AppData\\Roaming\\nltk_data...\n",
      "[nltk_data]   Unzipping taggers\\averaged_perceptron_tagger.zip.\n"
     ]
    },
    {
     "data": {
      "text/plain": [
       "True"
      ]
     },
     "execution_count": 34,
     "metadata": {},
     "output_type": "execute_result"
    }
   ],
   "source": [
    "nltk.download('averaged_perceptron_tagger')"
   ]
  },
  {
   "cell_type": "code",
   "execution_count": 35,
   "metadata": {},
   "outputs": [],
   "source": [
    "df=data_jobpost[['RequiredQual','IT']]"
   ]
  },
  {
   "cell_type": "code",
   "execution_count": 36,
   "metadata": {},
   "outputs": [],
   "source": [
    "df['RequiredQual'] = df['RequiredQual'].astype(str)\n",
    "\n",
    "pos_family = {\n",
    "    'noun' : ['NN','NNS','NNP','NNPS'],\n",
    "    'pron' : ['PRP','PRP$','WP','WP$'],\n",
    "    'verb' : ['VB','VBD','VBG','VBN','VBP','VBZ'],\n",
    "    'adj' :  ['JJ','JJR','JJS'],\n",
    "    'adv' : ['RB','RBR','RBS','WRB']\n",
    "}\n",
    "\n",
    "# function to check and get the part of speech tag count of a words in a given sentence\n",
    "def check_pos_tag(x, flag):\n",
    "    cnt = 0\n",
    "    try:\n",
    "        wiki = textblob.TextBlob(x)\n",
    "        for tup in wiki.tags:\n",
    "            ppo = list(tup)[1]\n",
    "            if ppo in pos_family[flag]:\n",
    "                cnt += 1\n",
    "    except:\n",
    "        pass\n",
    "    return cnt\n",
    "\n",
    "df['noun_count'] = df['RequiredQual'].apply(lambda x: check_pos_tag(x, 'noun'))\n",
    "df['verb_count'] = df['RequiredQual'].apply(lambda x: check_pos_tag(x, 'verb'))\n",
    "df['adj_count']  = df['RequiredQual'].apply(lambda x: check_pos_tag(x, 'adj'))\n",
    "df['adv_count']  = df['RequiredQual'].apply(lambda x: check_pos_tag(x, 'adv'))\n",
    "df['pron_count'] = df['RequiredQual'].apply(lambda x: check_pos_tag(x, 'pron')) \n"
   ]
  },
  {
   "cell_type": "markdown",
   "metadata": {},
   "source": [
    "# calculating sentiment analysis using textblob module"
   ]
  },
  {
   "cell_type": "code",
   "execution_count": 37,
   "metadata": {},
   "outputs": [],
   "source": [
    "df['sentiment'] = df[\"RequiredQual\"].apply(lambda x: TextBlob(x).sentiment.polarity )"
   ]
  },
  {
   "cell_type": "code",
   "execution_count": 38,
   "metadata": {},
   "outputs": [
    {
     "data": {
      "text/plain": [
       "False    2131\n",
       "True      664\n",
       "Name: IT, dtype: int64"
      ]
     },
     "execution_count": 38,
     "metadata": {},
     "output_type": "execute_result"
    }
   ],
   "source": [
    "df.IT.value_counts()"
   ]
  },
  {
   "cell_type": "code",
   "execution_count": 39,
   "metadata": {},
   "outputs": [
    {
     "data": {
      "image/png": "[encoded data removed]",
      "text/plain": [
       "<Figure size 432x288 with 1 Axes>"
      ]
     },
     "metadata": {
      "needs_background": "light"
     },
     "output_type": "display_data"
    }
   ],
   "source": [
    "df.groupby('IT')['RequiredQual'].count().plot('barh')\n",
    "plt.show()"
   ]
  },
  {
   "cell_type": "code",
   "execution_count": 40,
   "metadata": {},
   "outputs": [],
   "source": [
    "# convert label to a numeric variable\n",
    "df['IT'] = np.where(df.IT==False,0,1)"
   ]
  },
  {
   "cell_type": "code",
   "execution_count": 41,
   "metadata": {},
   "outputs": [
    {
     "data": {
      "text/plain": [
       "0    2131\n",
       "1     664\n",
       "Name: IT, dtype: int64"
      ]
     },
     "execution_count": 41,
     "metadata": {},
     "output_type": "execute_result"
    }
   ],
   "source": [
    "df['IT'].value_counts()"
   ]
  },
  {
   "cell_type": "markdown",
   "metadata": {},
   "source": [
    "# Now splitting data in to train and test"
   ]
  },
  {
   "cell_type": "code",
   "execution_count": 42,
   "metadata": {},
   "outputs": [
    {
     "name": "stdout",
     "output_type": "stream",
     "text": [
      "(2375,)\n",
      "(420,)\n",
      "(2375,)\n",
      "(420,)\n"
     ]
    }
   ],
   "source": [
    "# train features and labels \n",
    "y = df['IT']\n",
    "X = df['RequiredQual']\n",
    "\n",
    "# split the new DataFrame into training and testing sets\n",
    "X_train, X_test, y_train, y_test = train_test_split(X, y,test_size=0.15, random_state=1)\n",
    "print(X_train.shape)\n",
    "print(X_test.shape)\n",
    "print(y_train.shape)\n",
    "print(y_test.shape)"
   ]
  },
  {
   "cell_type": "markdown",
   "metadata": {},
   "source": [
    "# Creating using defined functions to preprocessing the data and cleaning the text"
   ]
  },
  {
   "cell_type": "code",
   "execution_count": 43,
   "metadata": {},
   "outputs": [],
   "source": [
    "#Abbrevations and Words correction\n",
    "def clean_text(text):\n",
    "    text = text.lower()\n",
    "    text = text.strip()\n",
    "    text = re.sub(r' +', ' ', text)\n",
    "    text = re.sub(r\"[-()\\\"#/@;:{}`+=~|.!?,'0-9]\", \"\", text)\n",
    "    return(text)"
   ]
  },
  {
   "cell_type": "code",
   "execution_count": 44,
   "metadata": {},
   "outputs": [],
   "source": [
    "stop = set(nltk.corpus.stopwords.words('english'))"
   ]
  },
  {
   "cell_type": "code",
   "execution_count": 45,
   "metadata": {},
   "outputs": [],
   "source": [
    "import string\n",
    "def pre_process(text):\n",
    "    #text = text.str.replace('/','')                           #Replacing the / with none\n",
    "    text = text.apply(lambda x: re.sub(\"  \",\" \", x))          #Replacing double space with single space\n",
    "    #text=re.sub(r'!\"#$%&()*,-./:;<=>?@\\[]^_`{|}~','', text)     #Replacing special character with none\n",
    "    #text = re.sub(r'[0-9]+', '', text)                        #Replacing numbers with none\n",
    "    text = text.apply(lambda x: \" \".join(x.translate(str.maketrans('', '', string.punctuation)) for x in x.split() if x.isalpha()))\n",
    "    text = text.apply(lambda x: \" \".join(x for x in x.split() if x not in stop)) #Removing stop words\n",
    "    text = text.apply(lambda x: str(TextBlob(x).correct()))                      #Correct spelling corrections\n",
    "    #text = text.apply(lambda x: \" \".join(PorterStemmer().stem(word) for word in x.split())) #Stemming using porter stemmer\n",
    "   # text = text.apply(lambda x: \" \".join(stemmer_func(word) for word in x.split()))        #Stemming\n",
    "    text = text.apply(lambda x: \" \".join([Word(word).lemmatize() for word in x.split()]))   #lemmatization\n",
    "   # text = text.apply(lambda x: \" \".join(word for word, pos in pos_tag(x.split()) if pos not in ['NN','NNS','NNP','NNPS'])) #Removing nouns etc\n",
    "    return(text)"
   ]
  },
  {
   "cell_type": "code",
   "execution_count": 46,
   "metadata": {},
   "outputs": [],
   "source": [
    "X_train = X_train.apply(lambda x: clean_text(x))\n",
    "X_test = X_test.apply(lambda x: clean_text(x))"
   ]
  },
  {
   "cell_type": "code",
   "execution_count": 47,
   "metadata": {},
   "outputs": [],
   "source": [
    "X_train=pre_process(X_train)\n",
    "X_test =pre_process(X_test)"
   ]
  },
  {
   "cell_type": "code",
   "execution_count": 49,
   "metadata": {
    "scrolled": true
   },
   "outputs": [
    {
     "data": {
      "text/plain": [
       "16507    master degree least year relevant experience d...\n",
       "8872     is ba year relevant experience ability accept ...\n",
       "5483     successful candidate good command english lang...\n",
       "6006     university degree technical least year work ex...\n",
       "4591     university degree preferably accounting busine...\n",
       "                               ...                        \n",
       "18794    excellent communication skill good oral writte...\n",
       "5883     university degree relevant professional backgr...\n",
       "7234     higher education good knowledge verbal written...\n",
       "1879     university degree relevant field minimum two y...\n",
       "6962     university degree relevant field minimum year ...\n",
       "Name: RequiredQual, Length: 2375, dtype: object"
      ]
     },
     "execution_count": 49,
     "metadata": {},
     "output_type": "execute_result"
    }
   ],
   "source": [
    "X_train"
   ]
  },
  {
   "cell_type": "markdown",
   "metadata": {},
   "source": [
    "# Using TF-IDF & count vectorization for both testing and training"
   ]
  },
  {
   "cell_type": "code",
   "execution_count": 51,
   "metadata": {},
   "outputs": [],
   "source": [
    "count_vect = CountVectorizer(analyzer='word', \n",
    "                             token_pattern=r'\\w{1,}', \n",
    "                             ngram_range=(2, 3),  \n",
    "                             encoding='latin-1',\n",
    "                             max_df=0.9,min_df=0.001)\n",
    "#Train\n",
    "xtrain_count = count_vect.fit_transform(X_train)\n",
    "\n",
    "tfidf_transformer = TfidfTransformer()\n",
    "X_train_tfidf = tfidf_transformer.fit_transform(xtrain_count)\n",
    "\n",
    "#Test\n",
    "#count_vect = CountVectorizer()\n",
    "xtest_count = count_vect.transform(X_test)\n",
    "\n",
    "#tfidf_transformer = TfidfTransformer()\n",
    "X_test_tfidf = tfidf_transformer.transform(xtest_count)"
   ]
  },
  {
   "cell_type": "code",
   "execution_count": 52,
   "metadata": {},
   "outputs": [
    {
     "data": {
      "text/plain": [
       "<2375x15754 sparse matrix of type '<class 'numpy.int64'>'\n",
       "\twith 156635 stored elements in Compressed Sparse Row format>"
      ]
     },
     "execution_count": 52,
     "metadata": {},
     "output_type": "execute_result"
    }
   ],
   "source": [
    "xtrain_count"
   ]
  },
  {
   "cell_type": "markdown",
   "metadata": {},
   "source": [
    "# Document Term Mertices"
   ]
  },
  {
   "cell_type": "code",
   "execution_count": 56,
   "metadata": {},
   "outputs": [],
   "source": [
    "dtm2=pd.DataFrame(X_train_tfidf.toarray(), columns=count_vect.get_feature_names())"
   ]
  },
  {
   "cell_type": "code",
   "execution_count": 57,
   "metadata": {},
   "outputs": [
    {
     "data": {
      "text/html": [
       "<div>\n",
       "<style scoped>\n",
       "    .dataframe tbody tr th:only-of-type {\n",
       "        vertical-align: middle;\n",
       "    }\n",
       "\n",
       "    .dataframe tbody tr th {\n",
       "        vertical-align: top;\n",
       "    }\n",
       "\n",
       "    .dataframe thead th {\n",
       "        text-align: right;\n",
       "    }\n",
       "</style>\n",
       "<table border=\"1\" class=\"dataframe\">\n",
       "  <thead>\n",
       "    <tr style=\"text-align: right;\">\n",
       "      <th></th>\n",
       "      <th>a engineer</th>\n",
       "      <th>a engineer experience</th>\n",
       "      <th>a engineer role</th>\n",
       "      <th>a engineer software</th>\n",
       "      <th>a experience</th>\n",
       "      <th>a process</th>\n",
       "      <th>a process methodology</th>\n",
       "      <th>a self</th>\n",
       "      <th>a self process</th>\n",
       "      <th>ability ability</th>\n",
       "      <th>...</th>\n",
       "      <th>year supervisor responsibility</th>\n",
       "      <th>year technical</th>\n",
       "      <th>year technical experience</th>\n",
       "      <th>year upper</th>\n",
       "      <th>year upper management</th>\n",
       "      <th>year web</th>\n",
       "      <th>year work</th>\n",
       "      <th>year work experience</th>\n",
       "      <th>year working</th>\n",
       "      <th>year working experience</th>\n",
       "    </tr>\n",
       "  </thead>\n",
       "  <tbody>\n",
       "    <tr>\n",
       "      <td>0</td>\n",
       "      <td>0.0</td>\n",
       "      <td>0.0</td>\n",
       "      <td>0.0</td>\n",
       "      <td>0.0</td>\n",
       "      <td>0.0</td>\n",
       "      <td>0.0</td>\n",
       "      <td>0.0</td>\n",
       "      <td>0.0</td>\n",
       "      <td>0.0</td>\n",
       "      <td>0.0</td>\n",
       "      <td>...</td>\n",
       "      <td>0.0</td>\n",
       "      <td>0.0</td>\n",
       "      <td>0.0</td>\n",
       "      <td>0.0</td>\n",
       "      <td>0.0</td>\n",
       "      <td>0.0</td>\n",
       "      <td>0.000000</td>\n",
       "      <td>0.000000</td>\n",
       "      <td>0.0</td>\n",
       "      <td>0.0</td>\n",
       "    </tr>\n",
       "    <tr>\n",
       "      <td>1</td>\n",
       "      <td>0.0</td>\n",
       "      <td>0.0</td>\n",
       "      <td>0.0</td>\n",
       "      <td>0.0</td>\n",
       "      <td>0.0</td>\n",
       "      <td>0.0</td>\n",
       "      <td>0.0</td>\n",
       "      <td>0.0</td>\n",
       "      <td>0.0</td>\n",
       "      <td>0.0</td>\n",
       "      <td>...</td>\n",
       "      <td>0.0</td>\n",
       "      <td>0.0</td>\n",
       "      <td>0.0</td>\n",
       "      <td>0.0</td>\n",
       "      <td>0.0</td>\n",
       "      <td>0.0</td>\n",
       "      <td>0.000000</td>\n",
       "      <td>0.000000</td>\n",
       "      <td>0.0</td>\n",
       "      <td>0.0</td>\n",
       "    </tr>\n",
       "    <tr>\n",
       "      <td>2</td>\n",
       "      <td>0.0</td>\n",
       "      <td>0.0</td>\n",
       "      <td>0.0</td>\n",
       "      <td>0.0</td>\n",
       "      <td>0.0</td>\n",
       "      <td>0.0</td>\n",
       "      <td>0.0</td>\n",
       "      <td>0.0</td>\n",
       "      <td>0.0</td>\n",
       "      <td>0.0</td>\n",
       "      <td>...</td>\n",
       "      <td>0.0</td>\n",
       "      <td>0.0</td>\n",
       "      <td>0.0</td>\n",
       "      <td>0.0</td>\n",
       "      <td>0.0</td>\n",
       "      <td>0.0</td>\n",
       "      <td>0.000000</td>\n",
       "      <td>0.000000</td>\n",
       "      <td>0.0</td>\n",
       "      <td>0.0</td>\n",
       "    </tr>\n",
       "    <tr>\n",
       "      <td>3</td>\n",
       "      <td>0.0</td>\n",
       "      <td>0.0</td>\n",
       "      <td>0.0</td>\n",
       "      <td>0.0</td>\n",
       "      <td>0.0</td>\n",
       "      <td>0.0</td>\n",
       "      <td>0.0</td>\n",
       "      <td>0.0</td>\n",
       "      <td>0.0</td>\n",
       "      <td>0.0</td>\n",
       "      <td>...</td>\n",
       "      <td>0.0</td>\n",
       "      <td>0.0</td>\n",
       "      <td>0.0</td>\n",
       "      <td>0.0</td>\n",
       "      <td>0.0</td>\n",
       "      <td>0.0</td>\n",
       "      <td>0.055189</td>\n",
       "      <td>0.055276</td>\n",
       "      <td>0.0</td>\n",
       "      <td>0.0</td>\n",
       "    </tr>\n",
       "    <tr>\n",
       "      <td>4</td>\n",
       "      <td>0.0</td>\n",
       "      <td>0.0</td>\n",
       "      <td>0.0</td>\n",
       "      <td>0.0</td>\n",
       "      <td>0.0</td>\n",
       "      <td>0.0</td>\n",
       "      <td>0.0</td>\n",
       "      <td>0.0</td>\n",
       "      <td>0.0</td>\n",
       "      <td>0.0</td>\n",
       "      <td>...</td>\n",
       "      <td>0.0</td>\n",
       "      <td>0.0</td>\n",
       "      <td>0.0</td>\n",
       "      <td>0.0</td>\n",
       "      <td>0.0</td>\n",
       "      <td>0.0</td>\n",
       "      <td>0.000000</td>\n",
       "      <td>0.000000</td>\n",
       "      <td>0.0</td>\n",
       "      <td>0.0</td>\n",
       "    </tr>\n",
       "  </tbody>\n",
       "</table>\n",
       "<p>5 rows × 15754 columns</p>\n",
       "</div>"
      ],
      "text/plain": [
       "   a engineer  a engineer experience  a engineer role  a engineer software  \\\n",
       "0         0.0                    0.0              0.0                  0.0   \n",
       "1         0.0                    0.0              0.0                  0.0   \n",
       "2         0.0                    0.0              0.0                  0.0   \n",
       "3         0.0                    0.0              0.0                  0.0   \n",
       "4         0.0                    0.0              0.0                  0.0   \n",
       "\n",
       "   a experience  a process  a process methodology  a self  a self process  \\\n",
       "0           0.0        0.0                    0.0     0.0             0.0   \n",
       "1           0.0        0.0                    0.0     0.0             0.0   \n",
       "2           0.0        0.0                    0.0     0.0             0.0   \n",
       "3           0.0        0.0                    0.0     0.0             0.0   \n",
       "4           0.0        0.0                    0.0     0.0             0.0   \n",
       "\n",
       "   ability ability  ...  year supervisor responsibility  year technical  \\\n",
       "0              0.0  ...                             0.0             0.0   \n",
       "1              0.0  ...                             0.0             0.0   \n",
       "2              0.0  ...                             0.0             0.0   \n",
       "3              0.0  ...                             0.0             0.0   \n",
       "4              0.0  ...                             0.0             0.0   \n",
       "\n",
       "   year technical experience  year upper  year upper management  year web  \\\n",
       "0                        0.0         0.0                    0.0       0.0   \n",
       "1                        0.0         0.0                    0.0       0.0   \n",
       "2                        0.0         0.0                    0.0       0.0   \n",
       "3                        0.0         0.0                    0.0       0.0   \n",
       "4                        0.0         0.0                    0.0       0.0   \n",
       "\n",
       "   year work  year work experience  year working  year working experience  \n",
       "0   0.000000              0.000000           0.0                      0.0  \n",
       "1   0.000000              0.000000           0.0                      0.0  \n",
       "2   0.000000              0.000000           0.0                      0.0  \n",
       "3   0.055189              0.055276           0.0                      0.0  \n",
       "4   0.000000              0.000000           0.0                      0.0  \n",
       "\n",
       "[5 rows x 15754 columns]"
      ]
     },
     "execution_count": 57,
     "metadata": {},
     "output_type": "execute_result"
    }
   ],
   "source": [
    "dtm2.head()"
   ]
  },
  {
   "cell_type": "code",
   "execution_count": 58,
   "metadata": {},
   "outputs": [],
   "source": [
    "# ngram level tf-idf \n",
    "tfidf_vect_ngram = TfidfVectorizer(analyzer='word', token_pattern='\\w{1,}', ngram_range=(2, 3),max_df=0.9,min_df=0.001)\n",
    "tfidf_vect_ngram.fit(df['RequiredQual'])\n",
    "xtrain_tfidf_ngram =  tfidf_vect_ngram.transform(X_train)\n",
    "xtest_tfidf_ngram =  tfidf_vect_ngram.transform(X_test)"
   ]
  },
  {
   "cell_type": "code",
   "execution_count": 59,
   "metadata": {},
   "outputs": [],
   "source": [
    "# characters level tf-idf\n",
    "tfidf_vect_ngram_chars = TfidfVectorizer(analyzer='char', token_pattern='\\w{1,}', ngram_range=(2,3), max_df=0.9,min_df=0.001)\n",
    "tfidf_vect_ngram_chars.fit(df['RequiredQual'])\n",
    "xtrain_tfidf_ngram_chars =  tfidf_vect_ngram_chars.transform(X_train) \n",
    "xtest_tfidf_ngram_chars =  tfidf_vect_ngram_chars.transform(X_test)"
   ]
  },
  {
   "cell_type": "markdown",
   "metadata": {},
   "source": [
    "# Topic Modeling"
   ]
  },
  {
   "cell_type": "code",
   "execution_count": 60,
   "metadata": {},
   "outputs": [],
   "source": [
    "# train a LDA Model\n",
    "lda_model = decomposition.LatentDirichletAllocation(n_components=15, learning_method='batch', max_iter=50)\n",
    "X_topics = lda_model.fit_transform(X_train_tfidf)\n",
    "topic_word = lda_model.components_ \n",
    "vocab = count_vect.get_feature_names()"
   ]
  },
  {
   "cell_type": "code",
   "execution_count": 61,
   "metadata": {},
   "outputs": [
    {
     "data": {
      "text/plain": [
       "['pharmaceutical medical education pharmaceutical medical higher pharmaceutical medical higher pharmaceutical medical education work effectively team effectively team language preferred communication networking communication networking skill',\n",
       " 'knowledge cava work experience cava experience cava knowledge database proficient microsoft skill proficient basic knowledge web development computer skill proficient excellent verbal written',\n",
       " 'good knowledge education good knowledge education good field study higher education good appropriate field study least year study least appropriate field study year practical experience',\n",
       " 'part team work part team work part ability work part testing tool field communication field communication skill relevant field communication part team excellent team excellent knowledge',\n",
       " 'communication skill eager learn task timely manner basic computer internet ability complete basic computer ability complete task complete task complete task timely plus basic',\n",
       " 'computer science software development degree computer degree computer science least year science related computer science related work experience good knowledge experience software',\n",
       " 'plus experience unit line window line system administration standard least medicine pharmacy fleecy pharmacy fleecy armenian pharmacy fleecy accounting standard least standard least year',\n",
       " 'degree medicine university degree medicine medicine pharmacy degree medicine pharmacy language knowledge english experience pharmaceutical russian language knowledge pharmaceutical industry experience pharmaceutical industry knowledge english',\n",
       " 'law least law least year degree law least internet explorer strong attention detail strong attention tearworn ability tormented personality legal document sense responsibility punctually',\n",
       " 'multiple task time management m word m word m expel word m communication negotiation experience preferably development knowledge work pressure multiple pressure multiple',\n",
       " 'morel draw adore illustration adore photoshop photoshop adore photoshop adore illustration software program accounting software program graphic design general knowledge higher education preferably',\n",
       " 'knowledge armenian work experience ability work excellent knowledge armenian russian university degree higher education english language good knowledge least year',\n",
       " 'quality assurance software quality software quality assurance communication organizational skill mobile application automatic testing tool experience software quality quality assurance experience assurance experience agile software',\n",
       " 'skill good solving skill problem solving skill experience software developer software developer development team problem solving html i knowledge myself excellent knowledge',\n",
       " 'ability perform perform multiple task perform multiple ability perform multiple work experience sale multiple task bachelor master bachelor master degree experience sale skill writing']"
      ]
     },
     "execution_count": 61,
     "metadata": {},
     "output_type": "execute_result"
    }
   ],
   "source": [
    "# view the topic models\n",
    "n_top_words = 10\n",
    "topic_summaries = []\n",
    "for i, topic_dist in enumerate(topic_word):\n",
    "    topic_words = np.array(vocab)[np.argsort(topic_dist)][:-(n_top_words+1):-1]\n",
    "    topic_summaries.append(' '.join(topic_words))\n",
    "\n",
    "topic_summaries"
   ]
  },
  {
   "cell_type": "markdown",
   "metadata": {},
   "source": [
    "# Count online job data-words and create a dictionary"
   ]
  },
  {
   "cell_type": "code",
   "execution_count": 62,
   "metadata": {},
   "outputs": [],
   "source": [
    "frequency_words_stop= {}\n",
    "for data in df['RequiredQual']:\n",
    "    tokens = nltk.wordpunct_tokenize(data.lower())\n",
    "    for token in tokens:\n",
    "        if token.lower() not in stop:\n",
    "            if token in frequency_words_stop:\n",
    "                count = frequency_words_stop[token]\n",
    "                count = count + 1\n",
    "                frequency_words_stop[token] = count\n",
    "            else:\n",
    "                frequency_words_stop[token] = 1"
   ]
  },
  {
   "cell_type": "code",
   "execution_count": 63,
   "metadata": {},
   "outputs": [
    {
     "data": {
      "text/plain": [
       "{'-': 24977,\n",
       " 'university': 871,\n",
       " 'degree': 1523,\n",
       " ';': 19026,\n",
       " 'economical': 6,\n",
       " 'background': 137,\n",
       " 'plus': 1454,\n",
       " 'excellent': 2349,\n",
       " 'knowledge': 6047,\n",
       " 'windows': 203,\n",
       " '2000': 23,\n",
       " 'server': 331,\n",
       " ',': 11178,\n",
       " 'networking': 79,\n",
       " 'tcp': 30,\n",
       " '/': 1656,\n",
       " 'ip': 44,\n",
       " 'technologies': 368,\n",
       " 'ms': 1016,\n",
       " 'sql': 374,\n",
       " 'visual': 38,\n",
       " 'basic': 365,\n",
       " '6': 44,\n",
       " 'least': 1285,\n",
       " '2': 617,\n",
       " 'years': 1623,\n",
       " 'experience': 4435,\n",
       " 'database': 219,\n",
       " 'software': 1009,\n",
       " 'development': 885,\n",
       " 'good': 2224,\n",
       " 'english': 2346,\n",
       " '.': 3652,\n",
       " 'remuneration': 3,\n",
       " ':': 791,\n",
       " 'commensurate': 6,\n",
       " 'norms': 14,\n",
       " 'accepted': 47,\n",
       " 'company': 148,\n",
       " 'gd': 1,\n",
       " 'creative': 124,\n",
       " 'innovative': 28,\n",
       " 'great': 12,\n",
       " 'capacity': 40,\n",
       " 'implement': 20,\n",
       " 'stylish': 1,\n",
       " 'ideas': 36,\n",
       " 'open': 243,\n",
       " 'new': 134,\n",
       " 'trends': 5,\n",
       " 'fine': 5,\n",
       " 'arts': 5,\n",
       " 'extensive': 70,\n",
       " 'graphic': 69,\n",
       " 'design': 409,\n",
       " 'marketing': 384,\n",
       " 'communications': 90,\n",
       " 'tools': 234,\n",
       " 'required': 83,\n",
       " 'well': 329,\n",
       " 'thorough': 45,\n",
       " 'adobe': 131,\n",
       " 'photoshop': 111,\n",
       " 'illustrator': 62,\n",
       " 'working': 617,\n",
       " 'web': 571,\n",
       " 'publishing': 8,\n",
       " 'enough': 2,\n",
       " 'macromedia': 8,\n",
       " 'freehand': 1,\n",
       " 'fireworks': 1,\n",
       " 'dreamweaver': 4,\n",
       " 'familiarity': 225,\n",
       " 'complex': 68,\n",
       " 'developments': 8,\n",
       " 'g': 30,\n",
       " 'u': 4,\n",
       " 'standards': 321,\n",
       " 'editors': 5,\n",
       " 'animations': 1,\n",
       " '3d': 22,\n",
       " 'reliable': 32,\n",
       " 'responsible': 106,\n",
       " 'skills': 4424,\n",
       " 'preferred': 322,\n",
       " 'qualifications': 56,\n",
       " 'essential': 25,\n",
       " 'verbal': 297,\n",
       " 'written': 799,\n",
       " 'understanding': 393,\n",
       " 'designer': 19,\n",
       " 'environment': 324,\n",
       " 'asset': 145,\n",
       " 'organized': 157,\n",
       " 'methodical': 9,\n",
       " '\"': 65,\n",
       " 'box': 4,\n",
       " 'thinker': 8,\n",
       " 'goal': 36,\n",
       " 'oriented': 343,\n",
       " 'willing': 27,\n",
       " 'learn': 342,\n",
       " 'fluency': 497,\n",
       " 'spoken': 120,\n",
       " 'european': 4,\n",
       " 'languages': 1635,\n",
       " 'desirable': 287,\n",
       " 'wide': 32,\n",
       " 'ranging': 1,\n",
       " 'administrative': 90,\n",
       " '(': 1704,\n",
       " 'accounting': 1428,\n",
       " 'bookkeeping': 10,\n",
       " 'work': 3128,\n",
       " 'tax': 357,\n",
       " 'social': 58,\n",
       " 'security': 77,\n",
       " 'maters': 1,\n",
       " 'per': 3,\n",
       " 'british': 1,\n",
       " 'law': 262,\n",
       " 'etc': 180,\n",
       " ');': 971,\n",
       " 'ability': 3197,\n",
       " 'prioritise': 2,\n",
       " 'competing': 12,\n",
       " 'tasks': 393,\n",
       " 'even': 6,\n",
       " 'pressure': 582,\n",
       " 'systematic': 11,\n",
       " 'manner': 227,\n",
       " 'using': 123,\n",
       " 'initiative': 162,\n",
       " 'team': 1019,\n",
       " 'inter': 18,\n",
       " 'personal': 101,\n",
       " 'communication': 1689,\n",
       " 'organising': 1,\n",
       " 'including': 280,\n",
       " 'event': 3,\n",
       " 'organisation': 8,\n",
       " 'international': 316,\n",
       " 'outlook': 137,\n",
       " 'interest': 42,\n",
       " 'developmental': 1,\n",
       " 'issues': 89,\n",
       " 'comfortable': 6,\n",
       " 'dealing': 7,\n",
       " 'high': 476,\n",
       " 'level': 225,\n",
       " 'dignitaries': 1,\n",
       " '18': 1,\n",
       " '000': 1,\n",
       " 'annum': 1,\n",
       " 'jurisprudence': 3,\n",
       " 'following': 95,\n",
       " 'fields': 126,\n",
       " 'commercial': 52,\n",
       " 'transactions': 9,\n",
       " 'sales': 196,\n",
       " 'contracts': 40,\n",
       " 'property': 2,\n",
       " 'right': 7,\n",
       " 'labor': 104,\n",
       " 'legislations': 15,\n",
       " 'laws': 157,\n",
       " 'trademarks': 1,\n",
       " 'economic': 42,\n",
       " 'competition': 5,\n",
       " 'armenian': 1814,\n",
       " 'russian': 1541,\n",
       " 'office': 785,\n",
       " 'finance': 505,\n",
       " '5': 372,\n",
       " 'relevant': 703,\n",
       " 'micro': 5,\n",
       " 'field': 813,\n",
       " 'managing': 73,\n",
       " 'supervising': 2,\n",
       " 'training': 51,\n",
       " 'personnel': 22,\n",
       " 'cba': 30,\n",
       " 'license': 140,\n",
       " 'chief': 99,\n",
       " 'accountant': 213,\n",
       " 'deputy': 7,\n",
       " 'position': 145,\n",
       " 'proven': 130,\n",
       " 'generally': 25,\n",
       " 'principles': 209,\n",
       " 'administer': 4,\n",
       " 'financial': 272,\n",
       " 'internal': 72,\n",
       " 'control': 72,\n",
       " 'systems': 285,\n",
       " 'comprehension': 17,\n",
       " 'data': 167,\n",
       " 'processing': 79,\n",
       " 'concepts': 90,\n",
       " 'structures': 62,\n",
       " 'strategic': 42,\n",
       " 'management': 642,\n",
       " 'business': 343,\n",
       " 'forecast': 6,\n",
       " 'analysis': 130,\n",
       " 'planning': 74,\n",
       " 'monitoring': 35,\n",
       " 'budgets': 8,\n",
       " 'grant': 4,\n",
       " 'computer': 1354,\n",
       " 'literacy': 236,\n",
       " 'word': 356,\n",
       " 'processor': 4,\n",
       " 'spreadsheet': 43,\n",
       " 'applications': 314,\n",
       " 'sun': 7,\n",
       " 'emerge': 1,\n",
       " 'building': 47,\n",
       " 'multi': 100,\n",
       " 'national': 21,\n",
       " 'staff': 53,\n",
       " 'willingness': 148,\n",
       " 'travel': 75,\n",
       " 'branches': 3,\n",
       " 'across': 19,\n",
       " 'armenia': 122,\n",
       " 'strong': 1132,\n",
       " 'oral': 441,\n",
       " 'writing': 291,\n",
       " 'graphics': 18,\n",
       " 'packages': 65,\n",
       " 'similar': 134,\n",
       " 'previous': 143,\n",
       " 'organizations': 94,\n",
       " 'strongly': 23,\n",
       " 'respected': 2,\n",
       " 'certificate': 69,\n",
       " 'three': 47,\n",
       " 'banking': 137,\n",
       " 'two': 72,\n",
       " 'reporting': 153,\n",
       " 'authorities': 19,\n",
       " 'fiscal': 8,\n",
       " 'resolve': 26,\n",
       " 'taxation': 34,\n",
       " 'practical': 84,\n",
       " 'controls': 20,\n",
       " 'analytical': 441,\n",
       " 'attention': 174,\n",
       " 'details': 128,\n",
       " 'professional': 425,\n",
       " 'proficiency': 226,\n",
       " 'advanced': 296,\n",
       " 'competency': 13,\n",
       " 'standard': 40,\n",
       " 'email': 22,\n",
       " 'internet': 463,\n",
       " 'quicken': 2,\n",
       " 'oc': 1,\n",
       " '1': 277,\n",
       " '\";': 2,\n",
       " 'ra': 193,\n",
       " 'legislation': 325,\n",
       " 'civil': 95,\n",
       " 'codes': 25,\n",
       " 'minimum': 265,\n",
       " '3': 656,\n",
       " 'related': 676,\n",
       " 'local': 105,\n",
       " 'demonstrated': 111,\n",
       " 'maintain': 69,\n",
       " 'confidentiality': 15,\n",
       " 'member': 61,\n",
       " 'independently': 261,\n",
       " 'organizational': 377,\n",
       " 'statements': 15,\n",
       " 'intended': 4,\n",
       " 'describe': 2,\n",
       " 'general': 104,\n",
       " 'nature': 3,\n",
       " 'performed': 4,\n",
       " 'construed': 2,\n",
       " 'exhaustive': 2,\n",
       " 'list': 3,\n",
       " 'responsibilities': 20,\n",
       " 'duties': 25,\n",
       " 'corel': 65,\n",
       " 'draw': 70,\n",
       " 'pagemaker': 1,\n",
       " '.;': 75,\n",
       " 'composition': 4,\n",
       " 'color': 4,\n",
       " 'matching': 1,\n",
       " 'separates': 1,\n",
       " 'different': 78,\n",
       " 'output': 3,\n",
       " 'devices': 6,\n",
       " 'friendly': 12,\n",
       " 'personality': 511,\n",
       " 'providing': 20,\n",
       " 'translation': 18,\n",
       " 'interpretation': 7,\n",
       " 'microsoft': 230,\n",
       " '.).': 14,\n",
       " 'records': 8,\n",
       " 'maintenance': 24,\n",
       " 'long': 13,\n",
       " 'unusual': 4,\n",
       " 'hours': 49,\n",
       " 'week': 2,\n",
       " 'ends': 2,\n",
       " 'unexpectedly': 2,\n",
       " 'order': 14,\n",
       " 'meet': 148,\n",
       " 'goals': 32,\n",
       " 'objectives': 25,\n",
       " 'effective': 119,\n",
       " 'perform': 41,\n",
       " 'multiple': 209,\n",
       " 'science': 193,\n",
       " 'information': 220,\n",
       " 'technology': 92,\n",
       " 'discipline': 125,\n",
       " 'bachelor': 211,\n",
       " \"'\": 415,\n",
       " 'master': 161,\n",
       " 'successful': 55,\n",
       " 'current': 33,\n",
       " 'industry': 113,\n",
       " 'java': 411,\n",
       " 'stored': 10,\n",
       " 'procedures': 99,\n",
       " 'j2ee': 98,\n",
       " 'jsp': 124,\n",
       " 'servlets': 38,\n",
       " 'one': 67,\n",
       " 'programming': 383,\n",
       " 'c': 432,\n",
       " '++/': 15,\n",
       " '++;': 27,\n",
       " 'vb': 22,\n",
       " 'html': 291,\n",
       " 'xml': 211,\n",
       " 'asp': 128,\n",
       " 'php': 244,\n",
       " 'additional': 27,\n",
       " 'characteristics': 12,\n",
       " 'task': 65,\n",
       " 'self': 459,\n",
       " 'directed': 23,\n",
       " 'highly': 194,\n",
       " 'motivated': 205,\n",
       " 'problem': 344,\n",
       " 'solving': 328,\n",
       " 'detail': 174,\n",
       " 'interpersonal': 454,\n",
       " 'public': 54,\n",
       " 'health': 32,\n",
       " 'institutional': 4,\n",
       " 'framework': 168,\n",
       " 'hiv': 1,\n",
       " 'aids': 2,\n",
       " 'prevention': 2,\n",
       " 'system': 221,\n",
       " 'unaids': 1,\n",
       " 'policies': 22,\n",
       " 'strategies': 28,\n",
       " 'global': 21,\n",
       " 'regional': 14,\n",
       " 'initiatives': 5,\n",
       " 'project': 319,\n",
       " 'funded': 24,\n",
       " 'fund': 2,\n",
       " 'fight': 4,\n",
       " 'tb': 1,\n",
       " 'malaria': 1,\n",
       " 'make': 53,\n",
       " 'recommendations': 6,\n",
       " 'present': 5,\n",
       " 'proposals': 2,\n",
       " 'improvement': 6,\n",
       " 'change': 13,\n",
       " 'activities': 52,\n",
       " 'usage': 17,\n",
       " 'computers': 16,\n",
       " 'package': 66,\n",
       " 'excel': 403,\n",
       " 'intranet': 4,\n",
       " 'spirit': 7,\n",
       " 'preferably': 249,\n",
       " 'majoring': 3,\n",
       " 'language': 1480,\n",
       " 'presentation': 161,\n",
       " 'assistant': 4,\n",
       " 'preferable': 224,\n",
       " 'masters': 57,\n",
       " 'relations': 38,\n",
       " 'human': 19,\n",
       " 'resources': 9,\n",
       " 'businesses': 2,\n",
       " 'ngos': 10,\n",
       " 'access': 52,\n",
       " 'power': 53,\n",
       " 'point': 52,\n",
       " '.),': 1,\n",
       " 'set': 40,\n",
       " 'use': 62,\n",
       " 'databases': 209,\n",
       " 'time': 254,\n",
       " 'must': 58,\n",
       " 'candidates': 32,\n",
       " 'programs': 174,\n",
       " 'desire': 43,\n",
       " 'bring': 7,\n",
       " 'positive': 65,\n",
       " 'things': 27,\n",
       " 'known': 5,\n",
       " 'beneficial': 48,\n",
       " 'detailed': 15,\n",
       " 'requirements': 108,\n",
       " 'ngo': 17,\n",
       " 'filings': 6,\n",
       " 'spreadsheets': 20,\n",
       " '.);': 60,\n",
       " 'people': 60,\n",
       " 'correspondence': 9,\n",
       " 'complete': 236,\n",
       " 'challenging': 12,\n",
       " 'western': 6,\n",
       " 'offices': 2,\n",
       " 'environmental': 2,\n",
       " 'economics': 326,\n",
       " 'non': 34,\n",
       " 'smoking': 1,\n",
       " 'lifestyle': 1,\n",
       " 'exemplary': 1,\n",
       " 'character': 9,\n",
       " 'employees': 19,\n",
       " 'role': 37,\n",
       " 'models': 3,\n",
       " 'students': 2,\n",
       " 'banks': 19,\n",
       " 'mfos': 1,\n",
       " 'court': 16,\n",
       " 'code': 112,\n",
       " 'georgian': 13,\n",
       " 'candidate': 27,\n",
       " 'materials': 18,\n",
       " 'preparation': 13,\n",
       " 'final': 3,\n",
       " 'version': 26,\n",
       " 'done': 8,\n",
       " 'works': 13,\n",
       " 'printing': 12,\n",
       " 'houses': 2,\n",
       " 'provide': 31,\n",
       " 'samples': 1,\n",
       " 'portfolio': 17,\n",
       " '):': 2,\n",
       " 'leaflets': 1,\n",
       " 'posters': 1,\n",
       " 'logos': 1,\n",
       " '&': 197,\n",
       " 'sketch': 4,\n",
       " 'idea': 1,\n",
       " 'accordance': 13,\n",
       " 'specifics': 4,\n",
       " 'trafficking': 3,\n",
       " 'humans': 1,\n",
       " ').': 144,\n",
       " 'e': 300,\n",
       " 'mail': 279,\n",
       " 'year': 297,\n",
       " 'organization': 120,\n",
       " 'confidence': 20,\n",
       " 'speak': 5,\n",
       " 'politely': 2,\n",
       " 'persons': 3,\n",
       " 'positions': 19,\n",
       " 'pro': 11,\n",
       " 'active': 57,\n",
       " 'attitude': 71,\n",
       " 'administration': 254,\n",
       " 'political': 11,\n",
       " 'education': 719,\n",
       " 'studies': 56,\n",
       " 'managerial': 40,\n",
       " 'governmental': 22,\n",
       " 'donor': 24,\n",
       " 'projects': 191,\n",
       " 'proposal': 6,\n",
       " 'fundraising': 2,\n",
       " 'programmatic': 1,\n",
       " 'sectors': 12,\n",
       " 'governance': 3,\n",
       " 'society': 6,\n",
       " 'advocacy': 4,\n",
       " 'rights': 9,\n",
       " 'media': 35,\n",
       " 'organisational': 11,\n",
       " 'commitment': 77,\n",
       " 'individually': 39,\n",
       " 'part': 97,\n",
       " 'flexibility': 125,\n",
       " 'cope': 9,\n",
       " 'unexpected': 1,\n",
       " 'handle': 95,\n",
       " 'prioritize': 57,\n",
       " 'full': 28,\n",
       " 'workload': 20,\n",
       " 'represent': 10,\n",
       " 'internews': 1,\n",
       " 'georgia': 2,\n",
       " 'levels': 51,\n",
       " 'speaking': 48,\n",
       " ')': 509,\n",
       " 'regions': 11,\n",
       " 'profound': 15,\n",
       " 'filed': 2,\n",
       " 'regulations': 162,\n",
       " 'ethics': 56,\n",
       " 'starter': 27,\n",
       " 'service': 72,\n",
       " 'minded': 216,\n",
       " 'approach': 48,\n",
       " 'higher': 709,\n",
       " 'innovations': 1,\n",
       " 'min': 1,\n",
       " 'audit': 54,\n",
       " 'person': 61,\n",
       " 'larger': 2,\n",
       " 'teams': 43,\n",
       " 'track': 16,\n",
       " 'methods': 50,\n",
       " 'methodologies': 85,\n",
       " 'xprogramming': 1,\n",
       " 'rup': 4,\n",
       " '.)': 10,\n",
       " 'qualified': 9,\n",
       " '4': 157,\n",
       " 'post': 11,\n",
       " 'qualification': 68,\n",
       " 'expertise': 46,\n",
       " 'practices': 146,\n",
       " 'along': 3,\n",
       " 'taxes': 4,\n",
       " 'fluent': 189,\n",
       " '1c': 176,\n",
       " 'player': 220,\n",
       " 'focus': 24,\n",
       " 'equivalent': 124,\n",
       " 'recognized': 15,\n",
       " 'institution': 27,\n",
       " 'analyze': 81,\n",
       " 'depth': 37,\n",
       " 'report': 27,\n",
       " 'valid': 34,\n",
       " 'electronic': 25,\n",
       " 'produce': 24,\n",
       " 'accurate': 37,\n",
       " 'documents': 53,\n",
       " 'designed': 10,\n",
       " 'attractive': 4,\n",
       " 'format': 8,\n",
       " 'cooperatively': 7,\n",
       " 'tactfully': 7,\n",
       " 'diplomatically': 3,\n",
       " 'culturally': 3,\n",
       " 'diverse': 26,\n",
       " 'group': 25,\n",
       " 'foster': 3,\n",
       " 'unity': 3,\n",
       " 'teamwork': 88,\n",
       " 'cooperation': 38,\n",
       " 'sensitivity': 10,\n",
       " 'cultures': 3,\n",
       " 'beliefs': 3,\n",
       " 'gender': 15,\n",
       " 'equity': 3,\n",
       " 'cp': 1,\n",
       " 'hp': 5,\n",
       " 'program': 62,\n",
       " 'possess': 11,\n",
       " 'competences': 1,\n",
       " 'include': 7,\n",
       " 'bank': 117,\n",
       " 'reconciliations': 3,\n",
       " 'journal': 4,\n",
       " 'ledger': 4,\n",
       " 'government': 34,\n",
       " 'reports': 88,\n",
       " 'theory': 24,\n",
       " 'expect': 1,\n",
       " 'applicant': 1,\n",
       " 'show': 7,\n",
       " 'honesty': 21,\n",
       " 'world': 22,\n",
       " 'vision': 6,\n",
       " 'christian': 1,\n",
       " 'principals': 2,\n",
       " 'minium': 1,\n",
       " 'cheif': 1,\n",
       " 'production': 52,\n",
       " 'familiar': 13,\n",
       " 'computerized': 14,\n",
       " 'knowlegde': 5,\n",
       " 'issued': 15,\n",
       " 'ministry': 32,\n",
       " 'republic': 41,\n",
       " 'acca': 107,\n",
       " 'insurance': 33,\n",
       " 'market': 113,\n",
       " 'practice': 25,\n",
       " 'foreign': 100,\n",
       " 'dedication': 10,\n",
       " 'persian': 2,\n",
       " 'linux': 256,\n",
       " 'apache': 61,\n",
       " 'services': 142,\n",
       " 'perl': 48,\n",
       " 'ensim': 1,\n",
       " 'plesk': 1,\n",
       " 'cpanel': 2,\n",
       " 'hosting': 3,\n",
       " 'panels': 1,\n",
       " 'obtain': 17,\n",
       " 'applicants': 12,\n",
       " 'exposure': 14,\n",
       " 'ruby': 17,\n",
       " 'python': 26,\n",
       " '),': 137,\n",
       " '#)': 1,\n",
       " 'relational': 44,\n",
       " 'particularly': 33,\n",
       " 'interested': 3,\n",
       " 'oracle': 168,\n",
       " 'dbms': 11,\n",
       " 'application': 129,\n",
       " 'architecture': 56,\n",
       " 'net': 294,\n",
       " 'based': 120,\n",
       " '#,': 70,\n",
       " 'aspx': 1,\n",
       " 'less': 4,\n",
       " 'thinking': 139,\n",
       " 'imagination': 5,\n",
       " 'innovation': 7,\n",
       " 'negotiation': 117,\n",
       " 'career': 27,\n",
       " 'center': 7,\n",
       " 'leading': 21,\n",
       " 'educational': 40,\n",
       " 'institutions': 18,\n",
       " 'given': 34,\n",
       " 'preference': 12,\n",
       " 'corresponding': 17,\n",
       " 'organisations': 3,\n",
       " 'motivation': 45,\n",
       " 'frequently': 10,\n",
       " 'bachelors': 53,\n",
       " 'xsl': 16,\n",
       " 'dhtml': 24,\n",
       " 'flash': 24,\n",
       " 'javascript': 278,\n",
       " 'css': 224,\n",
       " 'unix': 112,\n",
       " 'troubleshoot': 12,\n",
       " 'problems': 97,\n",
       " 'research': 73,\n",
       " 'enhancements': 1,\n",
       " 'trouble': 2,\n",
       " 'shooting': 2,\n",
       " 'takes': 2,\n",
       " 'quick': 29,\n",
       " 'read': 21,\n",
       " 'technical': 357,\n",
       " 'documentation': 65,\n",
       " 'write': 40,\n",
       " 'digree': 1,\n",
       " 'also': 42,\n",
       " 'sence': 1,\n",
       " 'responsibility': 310,\n",
       " 'references': 3,\n",
       " 'managers': 8,\n",
       " 'jobs': 2,\n",
       " 'sector': 75,\n",
       " 'command': 89,\n",
       " 'developed': 29,\n",
       " 'support': 50,\n",
       " 'embassies': 4,\n",
       " 'necessary': 31,\n",
       " 'prior': 32,\n",
       " 'msword': 1,\n",
       " 'msexcel': 1,\n",
       " 'journalism': 6,\n",
       " 'sciences': 158,\n",
       " 'develop': 115,\n",
       " 'approaches': 26,\n",
       " 'trainings': 8,\n",
       " 'pr': 20,\n",
       " 'awareness': 42,\n",
       " 'connections': 1,\n",
       " 'mass': 4,\n",
       " 'advantage': 251,\n",
       " '#.': 2,\n",
       " 'yerevan': 5,\n",
       " 'state': 12,\n",
       " 'engineering': 112,\n",
       " 'worker': 14,\n",
       " 'internship': 1,\n",
       " 'declaration': 1,\n",
       " 'typical': 2,\n",
       " 'account': 15,\n",
       " 'regulation': 15,\n",
       " 'orientation': 20,\n",
       " 'hard': 31,\n",
       " 'dynamic': 83,\n",
       " 'mysql': 277,\n",
       " 'algorithms': 94,\n",
       " 'books': 3,\n",
       " 'progressive': 11,\n",
       " 'capable': 29,\n",
       " 'think': 22,\n",
       " 'critically': 6,\n",
       " 'creatively': 7,\n",
       " 'effectively': 193,\n",
       " 'fast': 99,\n",
       " 'paced': 43,\n",
       " 'stressful': 20,\n",
       " 'flexible': 314,\n",
       " 'irregular': 6,\n",
       " 'participation': 23,\n",
       " 'hearings': 1,\n",
       " 'credit': 49,\n",
       " 'manage': 123,\n",
       " 'document': 8,\n",
       " 'flow': 3,\n",
       " 'within': 228,\n",
       " 'legal': 144,\n",
       " 'particular': 9,\n",
       " 'concerning': 4,\n",
       " 'establish': 32,\n",
       " 'relationships': 41,\n",
       " 'favour': 1,\n",
       " 'sef': 1,\n",
       " 'monitor': 9,\n",
       " 'changes': 11,\n",
       " 'initiate': 2,\n",
       " 'actions': 20,\n",
       " 'reach': 3,\n",
       " 'compliance': 2,\n",
       " 'communicate': 99,\n",
       " 'clear': 26,\n",
       " 'approachable': 1,\n",
       " 'fluently': 1,\n",
       " 'translate': 8,\n",
       " 'vice': 4,\n",
       " 'versa': 4,\n",
       " 'locally': 9,\n",
       " 'expert': 74,\n",
       " 'script': 47,\n",
       " 'hands': 50,\n",
       " 'home': 3,\n",
       " 'site': 8,\n",
       " 'imageready': 1,\n",
       " 'record': 22,\n",
       " 'meeting': 6,\n",
       " 'deadlines': 290,\n",
       " 'foundations': 2,\n",
       " 'policy': 19,\n",
       " 'equipment': 34,\n",
       " 'native': 7,\n",
       " 'multicultural': 10,\n",
       " 'region': 4,\n",
       " 'abroad': 20,\n",
       " 'several': 19,\n",
       " 'operating': 67,\n",
       " 'radiomodem': 1,\n",
       " 'proficient': 35,\n",
       " 'sponsored': 1,\n",
       " 'usaid': 21,\n",
       " 'undp': 2,\n",
       " 'eu': 12,\n",
       " 'tacis': 1,\n",
       " 'ebrd': 2,\n",
       " 'food': 6,\n",
       " 'standarts': 6,\n",
       " 'resident': 1,\n",
       " 'sphere': 87,\n",
       " 'residence': 1,\n",
       " 'companies': 70,\n",
       " 'respective': 3,\n",
       " 'accountants': 4,\n",
       " 'economy': 13,\n",
       " 'ap': 4,\n",
       " 'applicable': 24,\n",
       " 'diploma': 28,\n",
       " 'french': 43,\n",
       " 'german': 33,\n",
       " 'others': 27,\n",
       " 'tourism': 7,\n",
       " 'history': 7,\n",
       " 'culture': 6,\n",
       " 'politics': 1,\n",
       " 'initiatively': 1,\n",
       " 'teaching': 1,\n",
       " 'conducting': 10,\n",
       " 'oop': 175,\n",
       " 'developer': 118,\n",
       " 'jdbc': 20,\n",
       " 'ejb': 33,\n",
       " 'jms': 35,\n",
       " 'struts': 70,\n",
       " 'layered': 16,\n",
       " 'client': 115,\n",
       " 'components': 24,\n",
       " 'ibm': 9,\n",
       " 'websphere': 11,\n",
       " 'weblogic': 8,\n",
       " 'jboss': 35,\n",
       " 'jrun': 5,\n",
       " 'quality': 131,\n",
       " 'apply': 65,\n",
       " 'proper': 21,\n",
       " 'constructions': 18,\n",
       " 'increase': 22,\n",
       " 'competencies': 25,\n",
       " 'professionalism': 35,\n",
       " 'identify': 13,\n",
       " 'fly': 7,\n",
       " 'separate': 5,\n",
       " 'joint': 8,\n",
       " 'moments': 5,\n",
       " 'desired': 160,\n",
       " 'responsibly': 14,\n",
       " 'assigned': 36,\n",
       " 'according': 27,\n",
       " 'productive': 17,\n",
       " 'adapt': 40,\n",
       " 'decisions': 34,\n",
       " 'take': 59,\n",
       " 'energetic': 72,\n",
       " 'leader': 9,\n",
       " 'appropriately': 9,\n",
       " 'complexity': 13,\n",
       " 'areas': 41,\n",
       " 'express': 36,\n",
       " 'thoughts': 17,\n",
       " 'clearly': 37,\n",
       " 'bs': 129,\n",
       " 'applied': 3,\n",
       " 'mathematics': 26,\n",
       " '+': 91,\n",
       " 'developing': 106,\n",
       " 'newly': 1,\n",
       " 'established': 5,\n",
       " 'browser': 32,\n",
       " 'branding': 8,\n",
       " 'outreach': 3,\n",
       " 'campaigns': 10,\n",
       " 'outlets': 1,\n",
       " 'commerce': 6,\n",
       " 'five': 15,\n",
       " 'uk': 1,\n",
       " 'teamworking': 3,\n",
       " 'would': 159,\n",
       " 'like': 23,\n",
       " 'hear': 1,\n",
       " 'game': 4,\n",
       " 'closely': 7,\n",
       " '++': 87,\n",
       " 'assembly': 1,\n",
       " 'assertive': 2,\n",
       " 'solver': 3,\n",
       " 'priorities': 45,\n",
       " '3dmax': 2,\n",
       " 'art': 21,\n",
       " 'school': 9,\n",
       " 'products': 97,\n",
       " 'confident': 200,\n",
       " 'mature': 5,\n",
       " 'manufacturing': 7,\n",
       " 'provision': 8,\n",
       " 'emphasis': 14,\n",
       " 'vat': 3,\n",
       " 'water': 2,\n",
       " 'unquestioned': 6,\n",
       " 'behavior': 21,\n",
       " 'collaborative': 25,\n",
       " 'habits': 6,\n",
       " 'demonstrate': 32,\n",
       " 'sense': 279,\n",
       " 'urgency': 7,\n",
       " 'achieve': 27,\n",
       " 'important': 12,\n",
       " 'ambitious': 5,\n",
       " 'softwares': 15,\n",
       " 'supervision': 68,\n",
       " 'modern': 35,\n",
       " 'filling': 1,\n",
       " 'telephone': 28,\n",
       " 'techniques': 84,\n",
       " 'spelling': 4,\n",
       " 'grammar': 4,\n",
       " 'punctuation': 4,\n",
       " 'network': 76,\n",
       " 'judgment': 28,\n",
       " 'combined': 2,\n",
       " 'aspects': 44,\n",
       " 'typing': 16,\n",
       " 'translating': 4,\n",
       " 'auditing': 84,\n",
       " 'confidential': 56,\n",
       " 'filing': 4,\n",
       " 'linguistics': 31,\n",
       " 'specialised': 2,\n",
       " 'jurisdiction': 2,\n",
       " 'welcome': 17,\n",
       " 'engineer': 33,\n",
       " 'cpa': 17,\n",
       " 'availability': 63,\n",
       " 'regulatory': 19,\n",
       " 'central': 54,\n",
       " 'ias': 12,\n",
       " 'gaap': 16,\n",
       " 'acquaintance': 24,\n",
       " 'armsoftware': 17,\n",
       " 'secondary': 3,\n",
       " 'coral': 2,\n",
       " 'quark': 3,\n",
       " 'processes': 70,\n",
       " 'common': 15,\n",
       " 'started': 1,\n",
       " 'alone': 1,\n",
       " 'na': 1,\n",
       " 'basics': 15,\n",
       " 'certain': 5,\n",
       " 'accountng': 1,\n",
       " 'medical': 177,\n",
       " 'pediatrics': 10,\n",
       " 'x': 57,\n",
       " 'pharmacy': 63,\n",
       " 'biology': 5,\n",
       " 'nutrition': 26,\n",
       " 'hospitals': 6,\n",
       " 'acquire': 12,\n",
       " 'efforts': 14,\n",
       " 'seminars': 11,\n",
       " 'infants': 8,\n",
       " 'mobility': 4,\n",
       " 'ready': 9,\n",
       " 'extensively': 8,\n",
       " 'car': 21,\n",
       " 'driving': 80,\n",
       " 'meticulous': 1,\n",
       " 'accuracy': 120,\n",
       " 'integrity': 34,\n",
       " 'learning': 49,\n",
       " 'growth': 20,\n",
       " 'punctual': 215,\n",
       " 'communicative': 201,\n",
       " 'eager': 190,\n",
       " 'timely': 216,\n",
       " 'financing': 8,\n",
       " 'progressively': 12,\n",
       " 'communicational': 17,\n",
       " '1s': 5,\n",
       " 'real': 25,\n",
       " 'estate': 8,\n",
       " 'pc': 67,\n",
       " 'agency': 11,\n",
       " 'preferrable': 3,\n",
       " 'certified': 9,\n",
       " 'officer': 9,\n",
       " 'budget': 25,\n",
       " 'plan': 21,\n",
       " 'organize': 26,\n",
       " 'ensure': 14,\n",
       " 'polytechnics': 2,\n",
       " 'dra': 1,\n",
       " 'deep': 34,\n",
       " 'games': 4,\n",
       " 'univertity': 1,\n",
       " 'sites': 12,\n",
       " 'please': 3,\n",
       " 'hyperlinks': 1,\n",
       " 'motivationd': 1,\n",
       " 'fax': 6,\n",
       " 'scanner': 5,\n",
       " 'experinece': 1,\n",
       " 'mba': 60,\n",
       " 'directly': 6,\n",
       " 'specified': 6,\n",
       " 'advertising': 18,\n",
       " 'leadership': 68,\n",
       " 'budgeting': 16,\n",
       " 'cost': 19,\n",
       " 'estimating': 2,\n",
       " 'may': 12,\n",
       " 'substituted': 1,\n",
       " ...}"
      ]
     },
     "execution_count": 63,
     "metadata": {},
     "output_type": "execute_result"
    }
   ],
   "source": [
    "frequency_words_stop"
   ]
  },
  {
   "cell_type": "code",
   "execution_count": 64,
   "metadata": {},
   "outputs": [
    {
     "data": {
      "text/plain": [
       "<matplotlib.image.AxesImage at 0x16db0a604c8>"
      ]
     },
     "execution_count": 64,
     "metadata": {},
     "output_type": "execute_result"
    },
    {
     "data": {
      "image/png": "[encoded data removed]",
      "text/plain": [
       "<Figure size 14400x3600 with 1 Axes>"
      ]
     },
     "metadata": {
      "needs_background": "light"
     },
     "output_type": "display_data"
    }
   ],
   "source": [
    "#Visual representation using wordcloud\n",
    "wordcloud = WordCloud(stopwords=[]).generate(' '.join(X_train.tolist()))\n",
    "\n",
    "%matplotlib inline\n",
    "fig = plt.figure(figsize=(200,50))\n",
    "plt.imshow(wordcloud)"
   ]
  },
  {
   "cell_type": "markdown",
   "metadata": {},
   "source": [
    "# Create user defined function for train the models"
   ]
  },
  {
   "cell_type": "code",
   "execution_count": 65,
   "metadata": {},
   "outputs": [],
   "source": [
    "def train_model(classifier, feature_vector_train, label, feature_vector_valid,  valid_y, is_neural_net=False):\n",
    "    # fit the training dataset on the classifier\n",
    "    classifier.fit(feature_vector_train, label)\n",
    "    \n",
    "    # predict the labels on validation dataset\n",
    "    predictions = classifier.predict(feature_vector_valid)\n",
    "    \n",
    "    if is_neural_net:\n",
    "        predictions = predictions.argmax(axis=-1)\n",
    "    \n",
    "    \n",
    "    return metrics.accuracy_score(predictions, valid_y)"
   ]
  },
  {
   "cell_type": "markdown",
   "metadata": {},
   "source": [
    "# Building multiple models with different vectors like Naive bayes, logistic regression, linear SVM, Random forest"
   ]
  },
  {
   "cell_type": "markdown",
   "metadata": {},
   "source": [
    " - Naive Bayes"
   ]
  },
  {
   "cell_type": "code",
   "execution_count": 66,
   "metadata": {},
   "outputs": [
    {
     "name": "stdout",
     "output_type": "stream",
     "text": [
      "Count Vectors:  0.9571428571428572\n",
      "WordLevel TF-IDF:  0.9666666666666667\n",
      "N-Gram Vectors:  0.8642857142857143\n",
      "CharLevel Vectors:  0.930952380952381\n"
     ]
    }
   ],
   "source": [
    "# Naive Bayes on Count Vectors and TF-IDF\n",
    "accuracy_L1 = train_model(naive_bayes.MultinomialNB(), X_train_tfidf, y_train, X_test_tfidf, y_test)\n",
    "print(\"Count Vectors: \", accuracy_L1)\n",
    "\n",
    "# Naive Bayes on Word Level TF IDF Vectors\n",
    "accuracy_L1 = train_model(naive_bayes.MultinomialNB(), xtrain_count, y_train, xtest_count, y_test)\n",
    "print(\"WordLevel TF-IDF: \", accuracy_L1)\n",
    "\n",
    "# Naive Bayes on Ngram Level TF IDF Vectors\n",
    "accuracy_L1 = train_model(naive_bayes.MultinomialNB(), xtrain_tfidf_ngram, y_train, xtest_tfidf_ngram, y_test)\n",
    "print(\"N-Gram Vectors: \", accuracy_L1)\n",
    "\n",
    "\n",
    "# Naive Bayes on Character Level TF IDF Vectors\n",
    "accuracy_L1 = train_model(naive_bayes.MultinomialNB(), xtrain_tfidf_ngram_chars, y_train, xtest_tfidf_ngram_chars, y_test)\n",
    "print(\"CharLevel Vectors: \", accuracy_L1)"
   ]
  },
  {
   "cell_type": "markdown",
   "metadata": {},
   "source": [
    "- Logistics regression"
   ]
  },
  {
   "cell_type": "code",
   "execution_count": 67,
   "metadata": {},
   "outputs": [
    {
     "name": "stdout",
     "output_type": "stream",
     "text": [
      "Count Vectors:  0.9476190476190476\n",
      "WordLevel TF-IDF:  0.9666666666666667\n",
      "N-Gram Vectors:  0.9214285714285714\n",
      "CharLevel Vectors:  0.9714285714285714\n"
     ]
    }
   ],
   "source": [
    "# Logistic Regression on Count Vectors and TF-IDF\n",
    "accuracy_L1 = train_model(LogisticRegression(), X_train_tfidf, y_train, X_test_tfidf, y_test)\n",
    "print(\"Count Vectors: \", accuracy_L1)\n",
    "\n",
    "\n",
    "\n",
    "# Logistic Regression on Word Level TF IDF Vectors\n",
    "accuracy_L1 = train_model(LogisticRegression(), xtrain_count, y_train, xtest_count, y_test)\n",
    "print(\"WordLevel TF-IDF: \", accuracy_L1)\n",
    "\n",
    "\n",
    "\n",
    "# Logistic Regression on Ngram Level TF IDF Vectors\n",
    "accuracy_L1 = train_model(LogisticRegression(), xtrain_tfidf_ngram, y_train, xtest_tfidf_ngram, y_test)\n",
    "print(\"N-Gram Vectors: \", accuracy_L1)\n",
    "\n",
    "\n",
    "\n",
    "# Logistic Regression on Character Level TF IDF Vectors\n",
    "accuracy_L1 = train_model(LogisticRegression(), xtrain_tfidf_ngram_chars, y_train, xtest_tfidf_ngram_chars, y_test)\n",
    "print(\"CharLevel Vectors: \", accuracy_L1)"
   ]
  },
  {
   "cell_type": "markdown",
   "metadata": {},
   "source": [
    "- Linear SVM"
   ]
  },
  {
   "cell_type": "code",
   "execution_count": 68,
   "metadata": {},
   "outputs": [
    {
     "name": "stdout",
     "output_type": "stream",
     "text": [
      "Count Vectors:  0.9738095238095238\n",
      "WordLevel TF-IDF:  0.9666666666666667\n",
      "N-Gram Vectors:  0.9666666666666667\n",
      "CharLevel Vectors:  0.9904761904761905\n"
     ]
    }
   ],
   "source": [
    "# Linear SVC on Count Vectors and TF-IDF\n",
    "accuracy_L1 = train_model(svm.LinearSVC(), X_train_tfidf, y_train, X_test_tfidf, y_test)\n",
    "print(\"Count Vectors: \", accuracy_L1)\n",
    "\n",
    "\n",
    "\n",
    "# Linear SVC on Word Level TF IDF Vectors\n",
    "accuracy_L1 = train_model(svm.LinearSVC(), xtrain_count, y_train, xtest_count, y_test)\n",
    "print(\"WordLevel TF-IDF: \", accuracy_L1)\n",
    "\n",
    "\n",
    "\n",
    "# Linear SVC on Ngram Level TF IDF Vectors\n",
    "accuracy_L1 = train_model(svm.LinearSVC(), xtrain_tfidf_ngram, y_train, xtest_tfidf_ngram, y_test)\n",
    "print(\"N-Gram Vectors: \", accuracy_L1)\n",
    "\n",
    "\n",
    "\n",
    "# Linear SVC on Character Level TF IDF Vectors\n",
    "accuracy_L1 = train_model(svm.LinearSVC(), xtrain_tfidf_ngram_chars, y_train, xtest_tfidf_ngram_chars, y_test)\n",
    "print(\"CharLevel Vectors: \", accuracy_L1)"
   ]
  },
  {
   "cell_type": "markdown",
   "metadata": {},
   "source": [
    " - Random Forest"
   ]
  },
  {
   "cell_type": "code",
   "execution_count": 69,
   "metadata": {},
   "outputs": [
    {
     "name": "stdout",
     "output_type": "stream",
     "text": [
      "Count Vectors:  0.9619047619047619\n",
      "WordLevel TF-IDF:  0.9523809523809523\n",
      "N-Gram Vectors:  0.9333333333333333\n",
      "CharLevel Vectors:  0.9761904761904762\n"
     ]
    }
   ],
   "source": [
    "# Random Forest on Count Vectors and TF-IDF\n",
    "accuracy_L1 = train_model(RandomForestClassifier(), X_train_tfidf, y_train, X_test_tfidf, y_test)\n",
    "print(\"Count Vectors: \", accuracy_L1)\n",
    "\n",
    "\n",
    "\n",
    "# Random Forest on Word Level TF IDF Vectors\n",
    "accuracy_L1 = train_model(RandomForestClassifier(), xtrain_count, y_train, xtest_count, y_test)\n",
    "print(\"WordLevel TF-IDF: \", accuracy_L1)\n",
    "\n",
    "\n",
    "\n",
    "# Random Forest on Ngram Level TF IDF Vectors\n",
    "accuracy_L1 = train_model(RandomForestClassifier(), xtrain_tfidf_ngram, y_train, xtest_tfidf_ngram, y_test)\n",
    "print(\"N-Gram Vectors: \", accuracy_L1)\n",
    "\n",
    "\n",
    "\n",
    "# Random Forest on Character Level TF IDF Vectors\n",
    "accuracy_L1 = train_model(RandomForestClassifier(), xtrain_tfidf_ngram_chars, y_train, xtest_tfidf_ngram_chars, y_test)\n",
    "print(\"CharLevel Vectors: \", accuracy_L1)"
   ]
  },
  {
   "cell_type": "markdown",
   "metadata": {},
   "source": [
    "# Adding Features to DTM"
   ]
  },
  {
   "cell_type": "code",
   "execution_count": 70,
   "metadata": {},
   "outputs": [],
   "source": [
    "# create a DataFrame that only contains the IT=1 and IT=0\n",
    "job_post = df[(df.IT==0)| (df.IT==1)]\n",
    "\n",
    "# define X and y\n",
    "feature_cols = ['RequiredQual','sentiment']\n",
    "X = df[feature_cols]\n",
    "y = df.IT\n",
    "\n",
    "# split into training and testing sets\n",
    "X_train, X_test, y_train, y_test = train_test_split(X, y,random_state=1)"
   ]
  },
  {
   "cell_type": "code",
   "execution_count": 73,
   "metadata": {},
   "outputs": [
    {
     "name": "stdout",
     "output_type": "stream",
     "text": [
      "(2096, 13677)\n",
      "(699, 13677)\n"
     ]
    },
    {
     "data": {
      "text/plain": [
       "(2096, 1)"
      ]
     },
     "execution_count": 73,
     "metadata": {},
     "output_type": "execute_result"
    }
   ],
   "source": [
    "# use TfidfVectorizer with text column only\n",
    "vect = TfidfVectorizer(lowercase=True, stop_words='english', max_df=0.9,min_df=0.001, ngram_range=(2,3))\n",
    "X_train_dtm = vect.fit_transform(X_train.RequiredQual)\n",
    "X_test_dtm = vect.transform(X_test.RequiredQual)\n",
    "print(X_train_dtm.shape)\n",
    "print(X_test_dtm.shape)\n",
    "\n",
    "# shape of other four feature columns\n",
    "X_train.drop('RequiredQual', axis=1).shape"
   ]
  },
  {
   "cell_type": "code",
   "execution_count": 74,
   "metadata": {},
   "outputs": [
    {
     "name": "stdout",
     "output_type": "stream",
     "text": [
      "(2096, 3901)\n",
      "(699, 3901)\n"
     ]
    },
    {
     "data": {
      "text/plain": [
       "(2096, 1)"
      ]
     },
     "execution_count": 74,
     "metadata": {},
     "output_type": "execute_result"
    }
   ],
   "source": [
    "# use CountVectorizer with text column only\n",
    "vect = CountVectorizer()\n",
    "X_train_dtm = vect.fit_transform(X_train.RequiredQual)\n",
    "X_test_dtm = vect.transform(X_test.RequiredQual)\n",
    "print(X_train_dtm.shape)\n",
    "print(X_test_dtm.shape)\n",
    "\n",
    "# shape of other four feature columns\n",
    "X_train.drop('RequiredQual', axis=1).shape"
   ]
  },
  {
   "cell_type": "code",
   "execution_count": 75,
   "metadata": {},
   "outputs": [
    {
     "data": {
      "text/plain": [
       "(699, 3902)"
      ]
     },
     "execution_count": 75,
     "metadata": {},
     "output_type": "execute_result"
    }
   ],
   "source": [
    "# cast other feature columns to float and convert to a sparse matrix\n",
    "extra = sparse.csr_matrix(X_train.drop('RequiredQual', axis=1).astype(float))\n",
    "extra.shape\n",
    "\n",
    "# combine sparse matrices\n",
    "X_train_dtm_extra = sparse.hstack((X_train_dtm, extra))\n",
    "X_train_dtm_extra.shape\n",
    "\n",
    "# repeat for testing set\n",
    "extra = sparse.csr_matrix(X_test.drop('RequiredQual', axis=1).astype(float))\n",
    "X_test_dtm_extra = sparse.hstack((X_test_dtm, extra))\n",
    "X_test_dtm_extra.shape"
   ]
  },
  {
   "cell_type": "markdown",
   "metadata": {},
   "source": [
    "- Random forest"
   ]
  },
  {
   "cell_type": "code",
   "execution_count": 76,
   "metadata": {},
   "outputs": [
    {
     "data": {
      "text/plain": [
       "0.9728183118741058"
      ]
     },
     "execution_count": 76,
     "metadata": {},
     "output_type": "execute_result"
    }
   ],
   "source": [
    "# use Random Forest with text column only\n",
    "rmf = RandomForestClassifier()\n",
    "rmf.fit(X_train_dtm, y_train)\n",
    "y_pred_class = rmf.predict(X_test_dtm,)\n",
    "acc_rmf=metrics.accuracy_score(y_test, y_pred_class)\n",
    "acc_rmf"
   ]
  },
  {
   "cell_type": "code",
   "execution_count": 77,
   "metadata": {},
   "outputs": [
    {
     "data": {
      "text/plain": [
       "0.9728183118741058"
      ]
     },
     "execution_count": 77,
     "metadata": {},
     "output_type": "execute_result"
    }
   ],
   "source": [
    "# use Random Forest with all features\n",
    "rmf = RandomForestClassifier()\n",
    "rmf.fit(X_train_dtm_extra, y_train)\n",
    "y_pred_class = rmf.predict(X_test_dtm_extra)\n",
    "acc_rmf1=metrics.accuracy_score(y_test, y_pred_class)\n",
    "acc_rmf1"
   ]
  },
  {
   "cell_type": "markdown",
   "metadata": {},
   "source": [
    " - Logistics regression"
   ]
  },
  {
   "cell_type": "code",
   "execution_count": 78,
   "metadata": {},
   "outputs": [
    {
     "data": {
      "text/plain": [
       "0.9814020028612304"
      ]
     },
     "execution_count": 78,
     "metadata": {},
     "output_type": "execute_result"
    }
   ],
   "source": [
    "# use logistic regression with text column only\n",
    "logreg = LogisticRegression(C=1e9)\n",
    "logreg.fit(X_train_dtm, y_train)\n",
    "y_pred_class = logreg.predict(X_test_dtm)\n",
    "acc_log=metrics.accuracy_score(y_test, y_pred_class)\n",
    "acc_log"
   ]
  },
  {
   "cell_type": "code",
   "execution_count": 79,
   "metadata": {},
   "outputs": [
    {
     "data": {
      "text/plain": [
       "0.9799713876967096"
      ]
     },
     "execution_count": 79,
     "metadata": {},
     "output_type": "execute_result"
    }
   ],
   "source": [
    "# use logistic regression with all features\n",
    "logreg= LogisticRegression(C=1e9)\n",
    "logreg.fit(X_train_dtm_extra, y_train)\n",
    "y_pred_class = logreg.predict(X_test_dtm_extra)\n",
    "acc_log1=metrics.accuracy_score(y_test, y_pred_class)\n",
    "acc_log1"
   ]
  },
  {
   "cell_type": "markdown",
   "metadata": {},
   "source": [
    "- Linear SVM"
   ]
  },
  {
   "cell_type": "code",
   "execution_count": 80,
   "metadata": {},
   "outputs": [
    {
     "data": {
      "text/plain": [
       "0.9828326180257511"
      ]
     },
     "execution_count": 80,
     "metadata": {},
     "output_type": "execute_result"
    }
   ],
   "source": [
    "# use SVM with text column only\n",
    "sm =svm.LinearSVC()\n",
    "sm.fit(X_train_dtm, y_train)\n",
    "y_pred_class = sm.predict(X_test_dtm)\n",
    "acc_svm=metrics.accuracy_score(y_test, y_pred_class)\n",
    "acc_svm"
   ]
  },
  {
   "cell_type": "code",
   "execution_count": 81,
   "metadata": {},
   "outputs": [
    {
     "data": {
      "text/plain": [
       "0.9828326180257511"
      ]
     },
     "execution_count": 81,
     "metadata": {},
     "output_type": "execute_result"
    }
   ],
   "source": [
    "# use SVM with all features\n",
    "svm1 = svm.LinearSVC()\n",
    "svm1.fit(X_train_dtm_extra, y_train)\n",
    "y_pred_class = svm1.predict(X_test_dtm_extra)\n",
    "acc_svm1=metrics.accuracy_score(y_test, y_pred_class)\n",
    "acc_svm1"
   ]
  },
  {
   "cell_type": "markdown",
   "metadata": {},
   "source": [
    "# Confusion matrix"
   ]
  },
  {
   "cell_type": "code",
   "execution_count": 82,
   "metadata": {},
   "outputs": [
    {
     "data": {
      "text/plain": [
       "Text(0.5, 16.0, 'Predicted label')"
      ]
     },
     "execution_count": 82,
     "metadata": {},
     "output_type": "execute_result"
    },
    {
     "data": {
      "image/png": "[encoded data removed]",
      "text/plain": [
       "<Figure size 432x288 with 2 Axes>"
      ]
     },
     "metadata": {
      "needs_background": "light"
     },
     "output_type": "display_data"
    }
   ],
   "source": [
    "CM = metrics.confusion_matrix( y_test, y_pred_class)\n",
    "sns.heatmap(CM, annot=True,  fmt='.2f', xticklabels = [\"no\", \"Yes\"] , yticklabels = [\"No\", \"Yes\"] )\n",
    "plt.ylabel('True label')\n",
    "plt.xlabel('Predicted label')"
   ]
  },
  {
   "cell_type": "code",
   "execution_count": 84,
   "metadata": {},
   "outputs": [
    {
     "data": {
      "text/html": [
       "<div>\n",
       "<style scoped>\n",
       "    .dataframe tbody tr th:only-of-type {\n",
       "        vertical-align: middle;\n",
       "    }\n",
       "\n",
       "    .dataframe tbody tr th {\n",
       "        vertical-align: top;\n",
       "    }\n",
       "\n",
       "    .dataframe thead th {\n",
       "        text-align: right;\n",
       "    }\n",
       "</style>\n",
       "<table border=\"1\" class=\"dataframe\">\n",
       "  <thead>\n",
       "    <tr style=\"text-align: right;\">\n",
       "      <th></th>\n",
       "      <th>Model</th>\n",
       "      <th>Score</th>\n",
       "    </tr>\n",
       "  </thead>\n",
       "  <tbody>\n",
       "    <tr>\n",
       "      <td>2</td>\n",
       "      <td>svm</td>\n",
       "      <td>0.982833</td>\n",
       "    </tr>\n",
       "    <tr>\n",
       "      <td>0</td>\n",
       "      <td>Logistic Regression</td>\n",
       "      <td>0.981402</td>\n",
       "    </tr>\n",
       "    <tr>\n",
       "      <td>1</td>\n",
       "      <td>Random Forest</td>\n",
       "      <td>0.972818</td>\n",
       "    </tr>\n",
       "  </tbody>\n",
       "</table>\n",
       "</div>"
      ],
      "text/plain": [
       "                 Model     Score\n",
       "2                  svm  0.982833\n",
       "0  Logistic Regression  0.981402\n",
       "1        Random Forest  0.972818"
      ]
     },
     "execution_count": 84,
     "metadata": {},
     "output_type": "execute_result"
    }
   ],
   "source": [
    "models = pd.DataFrame({\n",
    "    'Model': ['Logistic Regression','Random Forest','svm'],\n",
    "    \n",
    "    'Score': [acc_log,acc_rmf,acc_svm]\n",
    "    })\n",
    "\n",
    "models.sort_values(by='Score', ascending=False)"
   ]
  },
  {
   "cell_type": "markdown",
   "metadata": {},
   "source": [
    "# So, we got best accuracy by SVM  model."
   ]
  },
  {
   "cell_type": "markdown",
   "metadata": {},
   "source": [
    "# Unsupervised Learning"
   ]
  },
  {
   "cell_type": "code",
   "execution_count": 159,
   "metadata": {},
   "outputs": [],
   "source": [
    "# Data Selection\n",
    "data_1 = job_post[['RequiredQual']]"
   ]
  },
  {
   "cell_type": "code",
   "execution_count": 160,
   "metadata": {},
   "outputs": [],
   "source": [
    "data_1['RequiredQual'] = data_1['RequiredQual'].astype(str)"
   ]
  },
  {
   "cell_type": "code",
   "execution_count": 161,
   "metadata": {},
   "outputs": [
    {
     "data": {
      "text/plain": [
       "4     - university degree; economical background is ...\n",
       "19    as a gd you are creative, innovative and have\\...\n",
       "20    - fluency in spoken and written english; knowl...\n",
       "21    - university degree in jurisprudence;\\n- exper...\n",
       "Name: RequiredQual, dtype: object"
      ]
     },
     "execution_count": 161,
     "metadata": {},
     "output_type": "execute_result"
    }
   ],
   "source": [
    "def remove_punctuations(text):\n",
    "    text=re.sub(r'!\"#$%&()*,-./:;<=>?@\\[]^_`{|}~','', text)                # Remove punctuations\n",
    "    text=text.lower()                                       # Convert text to lower\n",
    "    return(text)\n",
    "\n",
    "data_1['RequiredQual']=data_1['RequiredQual'].apply( lambda x: remove_punctuations(x))\n",
    "data_1['RequiredQual'].head(4)"
   ]
  },
  {
   "cell_type": "code",
   "execution_count": 162,
   "metadata": {},
   "outputs": [
    {
     "data": {
      "text/plain": [
       "TfidfVectorizer(max_df=0.9, min_df=0.1, ngram_range=(1, 4),\n",
       "                stop_words='english')"
      ]
     },
     "execution_count": 162,
     "metadata": {},
     "output_type": "execute_result"
    }
   ],
   "source": [
    "#tokenize text with Tfidf\n",
    "from sklearn.feature_extraction.text import TfidfVectorizer\n",
    "\n",
    "vectorizer = TfidfVectorizer(min_df = 0.1, max_df=0.9,\n",
    "                             ngram_range=(1, 4), \n",
    "                             stop_words='english')\n",
    "vectorizer.fit(data_1['RequiredQual'])"
   ]
  },
  {
   "cell_type": "code",
   "execution_count": 163,
   "metadata": {},
   "outputs": [],
   "source": [
    "X_train = vectorizer.transform(data_1['RequiredQual'])\n",
    "vocab = vectorizer.get_feature_names()"
   ]
  },
  {
   "cell_type": "code",
   "execution_count": 164,
   "metadata": {},
   "outputs": [
    {
     "data": {
      "text/plain": [
       "['ability',\n",
       " 'ability work',\n",
       " 'ability work pressure',\n",
       " 'accounting',\n",
       " 'analytical',\n",
       " 'applications',\n",
       " 'armenian',\n",
       " 'armenian english',\n",
       " 'armenian english languages',\n",
       " 'armenian russian']"
      ]
     },
     "execution_count": 164,
     "metadata": {},
     "output_type": "execute_result"
    }
   ],
   "source": [
    "vocab[:10]"
   ]
  },
  {
   "cell_type": "code",
   "execution_count": 165,
   "metadata": {},
   "outputs": [
    {
     "data": {
      "text/plain": [
       "TfidfVectorizer(max_df=0.95, min_df=0.05, ngram_range=(1, 2),\n",
       "                stop_words='english')"
      ]
     },
     "execution_count": 165,
     "metadata": {},
     "output_type": "execute_result"
    }
   ],
   "source": [
    "# get the tf-idf table \n",
    "vectorizer = TfidfVectorizer(min_df = 0.05, max_df=0.95,\n",
    "                             ngram_range=(1, 2), \n",
    "                             stop_words='english')\n",
    "vectorizer.fit(data_1['RequiredQual'])"
   ]
  },
  {
   "cell_type": "code",
   "execution_count": 166,
   "metadata": {},
   "outputs": [],
   "source": [
    "# Create a training data\n",
    "X_train = vectorizer.transform(data_1['RequiredQual'])"
   ]
  },
  {
   "cell_type": "code",
   "execution_count": 167,
   "metadata": {},
   "outputs": [],
   "source": [
    "# Use SVD to reduce dimensions\n",
    "svd = TruncatedSVD(200)\n",
    "normalizer = Normalizer(copy=False)\n",
    "lsa = make_pipeline(svd, normalizer)\n",
    "X_lsa = lsa.fit_transform(X_train)"
   ]
  },
  {
   "cell_type": "code",
   "execution_count": 168,
   "metadata": {},
   "outputs": [
    {
     "name": "stdout",
     "output_type": "stream",
     "text": [
      "Explained variance of the SVD step: 99%\n"
     ]
    }
   ],
   "source": [
    "explained_variance = svd.explained_variance_ratio_.sum()\n",
    "print(\"Explained variance of the SVD step: {}%\".format(int(explained_variance * 100)))"
   ]
  },
  {
   "cell_type": "code",
   "execution_count": 169,
   "metadata": {},
   "outputs": [],
   "source": [
    "range_n_clusters = list (range(4,11))"
   ]
  },
  {
   "cell_type": "code",
   "execution_count": 170,
   "metadata": {},
   "outputs": [
    {
     "name": "stdout",
     "output_type": "stream",
     "text": [
      "For n_clusters = 4, silhouette score is 0.11502165612886645\n",
      "For n_clusters = 5, silhouette score is 0.11466953912583602\n",
      "For n_clusters = 6, silhouette score is 0.11589498659170351\n",
      "For n_clusters = 7, silhouette score is 0.1155382298057659\n",
      "For n_clusters = 8, silhouette score is 0.10534362450337866\n",
      "For n_clusters = 9, silhouette score is 0.10862849606983255\n",
      "For n_clusters = 10, silhouette score is 0.11156756804430885\n"
     ]
    }
   ],
   "source": [
    "for n_clusters in range_n_clusters:\n",
    "    clusterer = KMeans(n_clusters=n_clusters)\n",
    "    preds = clusterer.fit_predict(X_lsa)\n",
    "    centers = clusterer.cluster_centers_\n",
    "\n",
    "    score = silhouette_score(X_lsa, preds, metric='euclidean')\n",
    "    print(\"For n_clusters = {}, silhouette score is {}\".format(n_clusters, score))"
   ]
  },
  {
   "cell_type": "code",
   "execution_count": 171,
   "metadata": {},
   "outputs": [],
   "source": [
    "# we create a kmeans model\n",
    "model = KMeans(n_clusters=6, \n",
    "               init='k-means++', \n",
    "               max_iter=100, n_init=1,random_state=5)"
   ]
  },
  {
   "cell_type": "code",
   "execution_count": 172,
   "metadata": {},
   "outputs": [
    {
     "data": {
      "text/plain": [
       "KMeans(max_iter=100, n_clusters=6, n_init=1, random_state=5)"
      ]
     },
     "execution_count": 172,
     "metadata": {},
     "output_type": "execute_result"
    }
   ],
   "source": [
    "# apply the model on this prepared data\n",
    "res = model.fit(X_train)\n",
    "res"
   ]
  },
  {
   "cell_type": "code",
   "execution_count": 173,
   "metadata": {},
   "outputs": [],
   "source": [
    "# Getting the vocalbulary as well as cluster centers\n",
    "# Firstly, set of words from the tf-idf itself\n",
    "vocab = vectorizer.get_feature_names()\n",
    "vocab = np.array(vocab)"
   ]
  },
  {
   "cell_type": "code",
   "execution_count": 174,
   "metadata": {},
   "outputs": [],
   "source": [
    "# Then, the cluster centers from the model fit that we stored on res\n",
    "cluster_centers = np.array(res.cluster_centers_)"
   ]
  },
  {
   "cell_type": "code",
   "execution_count": 175,
   "metadata": {},
   "outputs": [
    {
     "name": "stdout",
     "output_type": "stream",
     "text": [
      "[ 0.1  10.    0.05  1.5 ]\n",
      "[2 0 3 1]\n"
     ]
    },
    {
     "data": {
      "text/plain": [
       "array([  0, 147, 148, 154, 157,  58, 169,  55, 171, 173, 174,  50,  49,\n",
       "       175,  47, 176,  89,  44, 146, 143,  66, 141,  96,  99, 100, 102,\n",
       "       114,  82, 116, 119,  43, 122, 124, 129, 130,  74, 131, 133, 139,\n",
       "       140,  78, 188,  45,  40, 190, 211,  17,  16, 212, 218, 219, 209,\n",
       "       221,   8,   7,   6, 232, 237,   2, 238,   9, 208,  90, 205, 193,\n",
       "        37,  36,  35, 200,  33,  31, 206,  29, 202,  28,  27, 225, 216,\n",
       "       204,  87,  19,  57, 167, 198,  20, 201,  72, 135,  51, 210, 215,\n",
       "       121, 224, 217,  14, 123, 134,  70, 172,   4, 220, 226,  22,  67,\n",
       "        39,  68, 113,  88,  71, 183,   5, 236, 126,  59, 127, 136, 234,\n",
       "        48,  26, 163, 187, 242, 199, 235, 118, 158, 132, 145,  12, 117,\n",
       "       197, 111, 177, 243, 144,  23,  13, 178,  94,  95,  10, 160, 239,\n",
       "        86,  84, 105, 170,  60, 103, 159, 228, 168, 151, 152, 155, 214,\n",
       "       196, 109,  83,  80, 150, 241,  21, 207, 189,  98, 203, 165, 166,\n",
       "       164, 240, 179, 191, 192, 153, 227,  81, 181, 180, 115,  65,  41,\n",
       "        73, 162,  69, 186,  38,  92,  79, 149, 125, 233,  15,  91, 110,\n",
       "       231,  76, 142, 161, 112,  18, 185, 138,  46,  93,  34,  62,  25,\n",
       "       137, 106,  63, 120,  32, 156,  77, 195,  30, 230,  85,  53,  97,\n",
       "         3,  64,  42,  24, 213,  52, 222, 182,  54, 223,  61,  75,   1,\n",
       "       194, 229, 184,  56, 101,  11, 104, 108, 128, 107], dtype=int64)"
      ]
     },
     "execution_count": 175,
     "metadata": {},
     "output_type": "execute_result"
    }
   ],
   "source": [
    "x=np.array((0.1,10,0.05,1.5))\n",
    "print(x)\n",
    "print(x.argsort())\n",
    "res.cluster_centers_[0].argsort()"
   ]
  },
  {
   "cell_type": "code",
   "execution_count": 176,
   "metadata": {},
   "outputs": [],
   "source": [
    "# sorting the cluster centers\n",
    "sorted_vals = [res.cluster_centers_[i].argsort() for i in range(0,np.shape(res.cluster_centers_)[0])]"
   ]
  },
  {
   "cell_type": "code",
   "execution_count": 177,
   "metadata": {},
   "outputs": [
    {
     "name": "stdout",
     "output_type": "stream",
     "text": [
      "{'work', 'knowledge', 'knowledge english', 'language knowledge', 'medical', 'language', 'russian language', 'english language', 'advantage', 'skills'}\n",
      "{'experience', 'work', 'programming', 'knowledge english', 'language knowledge', 'ability', 'language', 'good', 'java', 'plus', 'knowledge', 'web', 'development', 'medical', 'russian language', 'english language', 'advantage', 'skills'}\n",
      "{'experience', 'communication skills', 'work', 'programming', 'ability complete', 'knowledge english', 'language knowledge', 'ability', 'language', 'good', 'communicative open', 'java', 'plus', 'computer internet', 'skills punctual', 'knowledge', 'web', 'development', 'medical', 'complete tasks', 'punctual communicative', 'russian language', 'english language', 'mail skills', 'basic computer', 'advantage', 'skills'}\n",
      "{'experience', 'communication skills', 'work', 'programming', 'ability complete', 'knowledge english', 'language knowledge', 'ability', 'degree', 'management', 'language', 'good', 'communicative open', 'java', 'plus', 'computer internet', 'skills punctual', 'knowledge', 'web', 'development', 'medical', 'complete tasks', 'punctual communicative', 'russian language', 'english language', 'mail skills', 'basic computer', 'excellent', 'marketing', 'university', 'advantage', 'skills'}\n",
      "{'experience', 'communication skills', 'programming', 'ability complete', 'language knowledge', 'ability', 'degree', 'management', 'finance', 'communicative open', 'standards', 'java', 'plus', 'accounting', 'computer internet', 'skills punctual', 'tax', 'development', 'medical', 'complete tasks', 'russian language', 'mail skills', 'basic computer', 'marketing', 'university', 'advantage', 'skills', 'work', 'knowledge english', 'language', 'good', 'armenian', 'software', 'knowledge', 'web', 'punctual communicative', 'excellent', 'english language', 'knowledge armenian'}\n",
      "{'experience', 'communication skills', 'programming', 'ability complete', 'language knowledge', 'ability', 'degree', 'management', 'finance', 'higher education', 'communicative open', 'standards', 'java', 'plus', 'accounting', 'computer internet', 'skills punctual', 'tax', 'development', 'medical', 'complete tasks', 'education', 'russian language', 'mail skills', 'basic computer', 'marketing', 'languages', 'higher', 'university', 'advantage', 'skills', 'work', 'knowledge english', 'language', 'good', 'armenian', 'software', 'knowledge', 'web', 'russian', 'punctual communicative', 'excellent', 'english language', 'knowledge armenian'}\n"
     ]
    }
   ],
   "source": [
    "# get top 10 words from that cluster\n",
    "words=set()\n",
    "for i in range(len(res.cluster_centers_)):\n",
    "    words = words.union(set(vocab[sorted_vals[i][-10:]]))\n",
    "    print(words)"
   ]
  },
  {
   "cell_type": "code",
   "execution_count": 178,
   "metadata": {},
   "outputs": [],
   "source": [
    "words=list(words)"
   ]
  },
  {
   "cell_type": "code",
   "execution_count": 179,
   "metadata": {},
   "outputs": [],
   "source": [
    "#add top words to train set\n",
    "train_set=X_train[:,[np.argwhere(vocab==i)[0][0] for i in words]]"
   ]
  },
  {
   "cell_type": "code",
   "execution_count": 180,
   "metadata": {},
   "outputs": [
    {
     "data": {
      "text/html": [
       "<div>\n",
       "<style scoped>\n",
       "    .dataframe tbody tr th:only-of-type {\n",
       "        vertical-align: middle;\n",
       "    }\n",
       "\n",
       "    .dataframe tbody tr th {\n",
       "        vertical-align: top;\n",
       "    }\n",
       "\n",
       "    .dataframe thead th {\n",
       "        text-align: right;\n",
       "    }\n",
       "</style>\n",
       "<table border=\"1\" class=\"dataframe\">\n",
       "  <thead>\n",
       "    <tr style=\"text-align: right;\">\n",
       "      <th></th>\n",
       "      <th>RequiredQual</th>\n",
       "    </tr>\n",
       "  </thead>\n",
       "  <tbody>\n",
       "    <tr>\n",
       "      <td>4</td>\n",
       "      <td>- university degree; economical background is ...</td>\n",
       "    </tr>\n",
       "    <tr>\n",
       "      <td>19</td>\n",
       "      <td>as a gd you are creative, innovative and have\\...</td>\n",
       "    </tr>\n",
       "    <tr>\n",
       "      <td>20</td>\n",
       "      <td>- fluency in spoken and written english; knowl...</td>\n",
       "    </tr>\n",
       "    <tr>\n",
       "      <td>21</td>\n",
       "      <td>- university degree in jurisprudence;\\n- exper...</td>\n",
       "    </tr>\n",
       "    <tr>\n",
       "      <td>29</td>\n",
       "      <td>- university degree in finance or accounting;\\...</td>\n",
       "    </tr>\n",
       "  </tbody>\n",
       "</table>\n",
       "</div>"
      ],
      "text/plain": [
       "                                         RequiredQual\n",
       "4   - university degree; economical background is ...\n",
       "19  as a gd you are creative, innovative and have\\...\n",
       "20  - fluency in spoken and written english; knowl...\n",
       "21  - university degree in jurisprudence;\\n- exper...\n",
       "29  - university degree in finance or accounting;\\..."
      ]
     },
     "execution_count": 180,
     "metadata": {},
     "output_type": "execute_result"
    }
   ],
   "source": [
    "#train_set[,]\n",
    "data_1.head()"
   ]
  },
  {
   "cell_type": "code",
   "execution_count": 181,
   "metadata": {},
   "outputs": [
    {
     "data": {
      "text/html": [
       "<div>\n",
       "<style scoped>\n",
       "    .dataframe tbody tr th:only-of-type {\n",
       "        vertical-align: middle;\n",
       "    }\n",
       "\n",
       "    .dataframe tbody tr th {\n",
       "        vertical-align: top;\n",
       "    }\n",
       "\n",
       "    .dataframe thead th {\n",
       "        text-align: right;\n",
       "    }\n",
       "</style>\n",
       "<table border=\"1\" class=\"dataframe\">\n",
       "  <thead>\n",
       "    <tr style=\"text-align: right;\">\n",
       "      <th></th>\n",
       "      <th>RequiredQual</th>\n",
       "    </tr>\n",
       "    <tr>\n",
       "      <th>cluster</th>\n",
       "      <th></th>\n",
       "    </tr>\n",
       "  </thead>\n",
       "  <tbody>\n",
       "    <tr>\n",
       "      <td>0</td>\n",
       "      <td>170</td>\n",
       "    </tr>\n",
       "    <tr>\n",
       "      <td>1</td>\n",
       "      <td>673</td>\n",
       "    </tr>\n",
       "    <tr>\n",
       "      <td>2</td>\n",
       "      <td>187</td>\n",
       "    </tr>\n",
       "    <tr>\n",
       "      <td>3</td>\n",
       "      <td>703</td>\n",
       "    </tr>\n",
       "    <tr>\n",
       "      <td>4</td>\n",
       "      <td>509</td>\n",
       "    </tr>\n",
       "    <tr>\n",
       "      <td>5</td>\n",
       "      <td>553</td>\n",
       "    </tr>\n",
       "  </tbody>\n",
       "</table>\n",
       "</div>"
      ],
      "text/plain": [
       "         RequiredQual\n",
       "cluster              \n",
       "0                 170\n",
       "1                 673\n",
       "2                 187\n",
       "3                 703\n",
       "4                 509\n",
       "5                 553"
      ]
     },
     "execution_count": 181,
     "metadata": {},
     "output_type": "execute_result"
    }
   ],
   "source": [
    "# how many observations are in each cluster\n",
    "\n",
    "data_1['cluster'] = model.labels_\n",
    "data_1.groupby('cluster').count()"
   ]
  },
  {
   "cell_type": "code",
   "execution_count": 182,
   "metadata": {},
   "outputs": [
    {
     "data": {
      "text/html": [
       "<div>\n",
       "<style scoped>\n",
       "    .dataframe tbody tr th:only-of-type {\n",
       "        vertical-align: middle;\n",
       "    }\n",
       "\n",
       "    .dataframe tbody tr th {\n",
       "        vertical-align: top;\n",
       "    }\n",
       "\n",
       "    .dataframe thead th {\n",
       "        text-align: right;\n",
       "    }\n",
       "</style>\n",
       "<table border=\"1\" class=\"dataframe\">\n",
       "  <thead>\n",
       "    <tr style=\"text-align: right;\">\n",
       "      <th></th>\n",
       "      <th>RequiredQual</th>\n",
       "      <th>cluster</th>\n",
       "    </tr>\n",
       "  </thead>\n",
       "  <tbody>\n",
       "    <tr>\n",
       "      <td>4</td>\n",
       "      <td>- university degree; economical background is ...</td>\n",
       "      <td>1</td>\n",
       "    </tr>\n",
       "    <tr>\n",
       "      <td>19</td>\n",
       "      <td>as a gd you are creative, innovative and have\\...</td>\n",
       "      <td>1</td>\n",
       "    </tr>\n",
       "    <tr>\n",
       "      <td>20</td>\n",
       "      <td>- fluency in spoken and written english; knowl...</td>\n",
       "      <td>3</td>\n",
       "    </tr>\n",
       "    <tr>\n",
       "      <td>21</td>\n",
       "      <td>- university degree in jurisprudence;\\n- exper...</td>\n",
       "      <td>5</td>\n",
       "    </tr>\n",
       "    <tr>\n",
       "      <td>29</td>\n",
       "      <td>- university degree in finance or accounting;\\...</td>\n",
       "      <td>4</td>\n",
       "    </tr>\n",
       "  </tbody>\n",
       "</table>\n",
       "</div>"
      ],
      "text/plain": [
       "                                         RequiredQual  cluster\n",
       "4   - university degree; economical background is ...        1\n",
       "19  as a gd you are creative, innovative and have\\...        1\n",
       "20  - fluency in spoken and written english; knowl...        3\n",
       "21  - university degree in jurisprudence;\\n- exper...        5\n",
       "29  - university degree in finance or accounting;\\...        4"
      ]
     },
     "execution_count": 182,
     "metadata": {},
     "output_type": "execute_result"
    }
   ],
   "source": [
    "# what does each cluster look like\n",
    "data_1.head()"
   ]
  },
  {
   "cell_type": "code",
   "execution_count": 187,
   "metadata": {},
   "outputs": [],
   "source": [
    "data_jobpost_1['AboutC']=data_jobpost_1['AboutC'].fillna(data_jobpost_1['AboutC'].mode().ix[0])"
   ]
  },
  {
   "cell_type": "code",
   "execution_count": 188,
   "metadata": {},
   "outputs": [
    {
     "data": {
      "text/plain": [
       "0    Mentor Graphics Development Services CJSC is a...\n",
       "1    The International Research & Exchanges Board (...\n",
       "2    The Caucasus Environmental NGO Network is a\\nn...\n",
       "3    Mentor Graphics Development Services CJSC is a...\n",
       "4    Mentor Graphics Development Services CJSC is a...\n",
       "Name: AboutC, dtype: object"
      ]
     },
     "execution_count": 188,
     "metadata": {},
     "output_type": "execute_result"
    }
   ],
   "source": [
    "data_jobpost_1['AboutC'].head()"
   ]
  },
  {
   "cell_type": "code",
   "execution_count": 189,
   "metadata": {},
   "outputs": [],
   "source": [
    "import en_core_web_sm\n",
    "\n",
    "nlp = en_core_web_sm.load()\n",
    "matcher = Matcher(nlp.vocab)"
   ]
  },
  {
   "cell_type": "code",
   "execution_count": 190,
   "metadata": {},
   "outputs": [],
   "source": [
    "def collect_sents(matcher, doc, i, matches):\n",
    "    match_id, start, end = matches[i]\n",
    "    span = doc[start : end]  # matched span\n",
    "    sent = span.sent  # sentence containing matched span\n",
    "    match_ents = [{'start': span.start_char - sent.start_char,\n",
    "                   'end': span.end_char - sent.start_char,\n",
    "                   'label': 'MATCH'}]\n",
    "    matched_sents.append({'text': sent.text, 'ents': match_ents })"
   ]
  },
  {
   "cell_type": "code",
   "execution_count": 191,
   "metadata": {},
   "outputs": [],
   "source": [
    "\n",
    "patn1 = [{'POS':'ADJ'},{'ORTH': '-'}, {'POS':'NOUN', 'OP':'+'}, {'LOWER': 'organization'}]\n",
    "patn2 = [{'POS':'NOUN', 'OP':'+'}, {'LOWER': 'organization'}]\n",
    "patn3 = [{'POS':'NOUN', 'OP':'+'}, {'LOWER': 'company'}]\n",
    "patn4 = [{'POS':'NOUN', 'OP':'+'}, {'LOWER': 'services'}]\n",
    "patn5 = [{'LOWER': 'company'}, {'POS':'VERB'}, {'POS':'NOUN', 'OP':'+'}]\n",
    "patn6 = [{'LOWER':'provider'}, {'POS':'ADP'}, {'POS':'NOUN',  'OP': '+'}  , {'POS':'CCONJ','OP':'+'}, {'POS':'NOUN','OP':'+'}]\n",
    "patn7 = [{'LOWER':'provider'}, {'POS':'ADP'}, {'POS':'NOUN',  'OP': '+'}]\n",
    "patn8 = [{'POS':'VERB'}, {'POS':'NOUN',  'OP': '+'} ]\n",
    "patn9 = [{'POS':'ADJ'}, {'POS':'NOUN',  'OP': '+'} ]\n",
    "patn10 = [{'POS':'NOUN'}, {'POS':'ADP'}, {'POS':'NOUN',  'OP': '+'} ]\n",
    "patn11 = [{'POS':'NOUN'}, {'POS':'NOUN','OP':'+'} ]"
   ]
  },
  {
   "cell_type": "code",
   "execution_count": 192,
   "metadata": {},
   "outputs": [],
   "source": [
    "matcher.add('all', collect_sents, patn1, patn2, patn3, patn4, patn5, patn6, patn7, patn8, patn9, patn10, patn11)"
   ]
  },
  {
   "cell_type": "code",
   "execution_count": 193,
   "metadata": {},
   "outputs": [],
   "source": [
    "matched_sents=[]\n",
    "for t in data_jobpost_1.AboutC:\n",
    "    if pd.notnull(t) and t != 'NaN':\n",
    "        t = re.sub(r'\\s+', ' ', t)\n",
    "        doc = nlp(t)\n",
    "        matches = matcher(doc)\n",
    "        token_set = []\n",
    "        for match_id, start, end in matches:\n",
    "            string_id = nlp.vocab.strings[match_id]  # get string representation\n",
    "            span = doc[start:end]  # the matched span\n",
    "            token_set.append(span.text)    \n",
    "        matched_sents.append(token_set)"
   ]
  },
  {
   "cell_type": "code",
   "execution_count": 194,
   "metadata": {},
   "outputs": [],
   "source": [
    "flat_list = []\n",
    "for row in matched_sents:\n",
    "    for token in row:\n",
    "        flat_list.append(token)"
   ]
  },
  {
   "cell_type": "code",
   "execution_count": 195,
   "metadata": {},
   "outputs": [
    {
     "data": {
      "image/png": "[encoded data removed]",
      "text/plain": [
       "<Figure size 1800x720 with 1 Axes>"
      ]
     },
     "metadata": {
      "needs_background": "light"
     },
     "output_type": "display_data"
    }
   ],
   "source": [
    "plt.figure(figsize=(25, 10))\n",
    "fd = nltk.FreqDist(flat_list)  # case sensitive!\n",
    "fd.most_common(50)\n",
    "fd.plot(50)\n",
    "plt.show()"
   ]
  },
  {
   "cell_type": "markdown",
   "metadata": {},
   "source": [
    "# Job Similarity"
   ]
  },
  {
   "cell_type": "code",
   "execution_count": 196,
   "metadata": {},
   "outputs": [],
   "source": [
    "df1=data_jobpost_1[['jobpost','Title','JobRequirment','JobDescription','RequiredQual']]"
   ]
  },
  {
   "cell_type": "markdown",
   "metadata": {},
   "source": [
    "# Using TF-IDF"
   ]
  },
  {
   "cell_type": "code",
   "execution_count": 197,
   "metadata": {},
   "outputs": [],
   "source": [
    "df1['JobDescription_token'] = df1['JobDescription'].astype(str).map(word_tokenize)\n",
    "df1['RequiredQual_token'] = df1['RequiredQual'].astype(str).map(word_tokenize)\n",
    "df1['JobRequirment_token'] = df1['JobRequirment'].astype(str).map(word_tokenize)"
   ]
  },
  {
   "cell_type": "code",
   "execution_count": 198,
   "metadata": {},
   "outputs": [],
   "source": [
    "tfidf_model = TfidfVectorizer()\n",
    "Title_tfidf = tfidf_model.fit_transform(df1['Title'].astype(str))\n",
    "JobDescription_tfidf = tfidf_model.fit_transform(df1['JobDescription'].astype(str))\n",
    "RequiredQual_tfidf = tfidf_model.fit_transform(df1['RequiredQual'].astype(str))\n",
    "JobRequirment_tfidf = tfidf_model.fit_transform(df1['JobRequirment'].astype(str))"
   ]
  },
  {
   "cell_type": "code",
   "execution_count": 199,
   "metadata": {},
   "outputs": [],
   "source": [
    "def find_similar_jobs_tfidf(index, top_n = 5):\n",
    "    Title_tfidf_cosine = cosine_similarity(Title_tfidf[index:index+1], Title_tfidf).flatten()\n",
    "    JobDescription_tfidf_cosine = cosine_similarity(JobDescription_tfidf[index:index+1], JobDescription_tfidf).flatten()\n",
    "    RequiredQual_tfidf_cosine = cosine_similarity(RequiredQual_tfidf[index:index+1], RequiredQual_tfidf).flatten()\n",
    "    JobRequirment_tfidf_cosine = cosine_similarity(JobRequirment_tfidf[index:index+1], JobRequirment_tfidf).flatten()\n",
    "\n",
    "    average_cosine = (Title_tfidf_cosine +JobDescription_tfidf_cosine+RequiredQual_tfidf_cosine+JobRequirment_tfidf_cosine)/4.0\n",
    "    related_docs_indices = [i for i in average_cosine.argsort()[::-1] if i != index]\n",
    "    return [(index, average_cosine[index]) for index in related_docs_indices][0:top_n]"
   ]
  },
  {
   "cell_type": "markdown",
   "metadata": {},
   "source": [
    "# Chief Financial Officer Jobs"
   ]
  },
  {
   "cell_type": "code",
   "execution_count": 200,
   "metadata": {},
   "outputs": [
    {
     "data": {
      "text/plain": [
       "jobpost                 AMERIA Investment Consulting Company\\nJOB TITL...\n",
       "Title                                             Chief Financial Officer\n",
       "JobRequirment           - Supervises financial management and administ...\n",
       "JobDescription          AMERIA Investment Consulting Company is seekin...\n",
       "RequiredQual            To perform this job successfully, an\\nindividu...\n",
       "JobDescription_token    [AMERIA, Investment, Consulting, Company, is, ...\n",
       "RequiredQual_token      [To, perform, this, job, successfully, ,, an, ...\n",
       "JobRequirment_token     [-, Supervises, financial, management, and, ad...\n",
       "Name: 0, dtype: object"
      ]
     },
     "execution_count": 200,
     "metadata": {},
     "output_type": "execute_result"
    }
   ],
   "source": [
    "df1.iloc[0]"
   ]
  },
  {
   "cell_type": "code",
   "execution_count": 201,
   "metadata": {},
   "outputs": [
    {
     "name": "stdout",
     "output_type": "stream",
     "text": [
      "jobpost                 Organization for Implementation of North-South...\n",
      "Title                                             Chief Financial Officer\n",
      "JobRequirment           Financial management of the NSRCIP T1 & T2 pro...\n",
      "JobDescription          The Chief Financial Officer (CFO) will support...\n",
      "RequiredQual            - Degree in Accounting, Finance, Business, Law...\n",
      "JobDescription_token    [The, Chief, Financial, Officer, (, CFO, ), wi...\n",
      "RequiredQual_token      [-, Degree, in, Accounting, ,, Finance, ,, Bus...\n",
      "JobRequirment_token     [Financial, management, of, the, NSRCIP, T1, &...\n",
      "Name: 12368, dtype: object\n",
      "SIMILARITY SCORE:  0.5089527326331377\n",
      "jobpost                 River Island\\nTITLE:  Chief Financial Officer\\...\n",
      "Title                                             Chief Financial Officer\n",
      "JobRequirment           - Develop tools and systems to provide critica...\n",
      "JobDescription          River Island is seeking a Chief Financial Offi...\n",
      "RequiredQual            - Master's degree in Management, Finance or Ec...\n",
      "JobDescription_token    [River, Island, is, seeking, a, Chief, Financi...\n",
      "RequiredQual_token      [-, Master, 's, degree, in, Management, ,, Fin...\n",
      "JobRequirment_token     [-, Develop, tools, and, systems, to, provide,...\n",
      "Name: 11223, dtype: object\n",
      "SIMILARITY SCORE:  0.5003614065338775\n",
      "jobpost                 \"Gritti\" LLC\\nTITLE:  Chief Financial Officer\\...\n",
      "Title                                             Chief Financial Officer\n",
      "JobRequirment           General Responsibilities:   \\n- Assist in perf...\n",
      "JobDescription          Gritti LLC is inviting highly qualified\\nprofe...\n",
      "RequiredQual            - Master's or equivalent university degree in ...\n",
      "JobDescription_token    [Gritti, LLC, is, inviting, highly, qualified,...\n",
      "RequiredQual_token      [-, Master, 's, or, equivalent, university, de...\n",
      "JobRequirment_token     [General, Responsibilities, :, -, Assist, in, ...\n",
      "Name: 8120, dtype: object\n",
      "SIMILARITY SCORE:  0.4911304731508453\n",
      "jobpost                 Armenian Datacom Company CJSC\\nTITLE:  Chief F...\n",
      "Title                                             Chief Financial Officer\n",
      "JobRequirment           Responsibilities include but are not limited t...\n",
      "JobDescription          Armenian Datacom Company (ADC) is seeking a hi...\n",
      "RequiredQual            - Master's degree in Accounting, Finance;\\n- 5...\n",
      "JobDescription_token    [Armenian, Datacom, Company, (, ADC, ), is, se...\n",
      "RequiredQual_token      [-, Master, 's, degree, in, Accounting, ,, Fin...\n",
      "JobRequirment_token     [Responsibilities, include, but, are, not, lim...\n",
      "Name: 8319, dtype: object\n",
      "SIMILARITY SCORE:  0.4904369815806156\n",
      "jobpost                 Next /Landfro LLC/\\nTITLE:  Chief Financial Of...\n",
      "Title                                             Chief Financial Officer\n",
      "JobRequirment           - Enhance, develop and implement financial pol...\n",
      "JobDescription          Next-Armenia is seeking a dynamic, energetic C...\n",
      "RequiredQual            - Bachelors degree in Accounting; Masters degr...\n",
      "JobDescription_token    [Next-Armenia, is, seeking, a, dynamic, ,, ene...\n",
      "RequiredQual_token      [-, Bachelors, degree, in, Accounting, ;, Mast...\n",
      "JobRequirment_token     [-, Enhance, ,, develop, and, implement, finan...\n",
      "Name: 7222, dtype: object\n",
      "SIMILARITY SCORE:  0.4646526013312904\n"
     ]
    }
   ],
   "source": [
    "for index, score in find_similar_jobs_tfidf(0):\n",
    "    print(df1.iloc[index])\n",
    "    print(\"SIMILARITY SCORE: \", score)"
   ]
  },
  {
   "cell_type": "markdown",
   "metadata": {},
   "source": [
    "# International Research & Exchanges Board Jobs"
   ]
  },
  {
   "cell_type": "code",
   "execution_count": 202,
   "metadata": {},
   "outputs": [
    {
     "data": {
      "text/plain": [
       "jobpost                 International Research & Exchanges Board (IREX...\n",
       "Title                   Full-time Community Connections Intern (paid i...\n",
       "JobRequirment                                                         NaN\n",
       "JobDescription                                                        NaN\n",
       "RequiredQual            - Bachelor's Degree; Master's is preferred;\\n-...\n",
       "JobDescription_token                                                [nan]\n",
       "RequiredQual_token      [-, Bachelor, 's, Degree, ;, Master, 's, is, p...\n",
       "JobRequirment_token                                                 [nan]\n",
       "Name: 1, dtype: object"
      ]
     },
     "execution_count": 202,
     "metadata": {},
     "output_type": "execute_result"
    }
   ],
   "source": [
    "df1.iloc[1]"
   ]
  },
  {
   "cell_type": "code",
   "execution_count": 203,
   "metadata": {},
   "outputs": [
    {
     "name": "stdout",
     "output_type": "stream",
     "text": [
      "jobpost                 Military Institute MoD RA\\nJOB TITLE:   IT Tea...\n",
      "Title                                             IT Teacher  (full time)\n",
      "JobRequirment                                                         NaN\n",
      "JobDescription                                                        NaN\n",
      "RequiredQual            - Degree in Computer Science, Information Tech...\n",
      "JobDescription_token                                                [nan]\n",
      "RequiredQual_token      [-, Degree, in, Computer, Science, ,, Informat...\n",
      "JobRequirment_token                                                 [nan]\n",
      "Name: 114, dtype: object\n",
      "SIMILARITY SCORE:  0.6688517798124234\n",
      "jobpost                 International Research & Exchanges Board (IREX...\n",
      "Title                              Administrative and Programmatic Intern\n",
      "JobRequirment                                                         NaN\n",
      "JobDescription                                                        NaN\n",
      "RequiredQual            - Fluency in English and Armenian;\\n- Good com...\n",
      "JobDescription_token                                                [nan]\n",
      "RequiredQual_token      [-, Fluency, in, English, and, Armenian, ;, -,...\n",
      "JobRequirment_token                                                 [nan]\n",
      "Name: 127, dtype: object\n",
      "SIMILARITY SCORE:  0.6420866758466943\n",
      "jobpost                 International Research & Exchanges Board (IREX...\n",
      "Title                              Administrative and Programmatic Intern\n",
      "JobRequirment                                                         NaN\n",
      "JobDescription                                                        NaN\n",
      "RequiredQual            - Fluency in English and Armenian;\\n- Good com...\n",
      "JobDescription_token                                                [nan]\n",
      "RequiredQual_token      [-, Fluency, in, English, and, Armenian, ;, -,...\n",
      "JobRequirment_token                                                 [nan]\n",
      "Name: 125, dtype: object\n",
      "SIMILARITY SCORE:  0.6420866758466943\n",
      "jobpost                 International Research & Exchanges Board (IREX...\n",
      "Title                    Non-paid part or full time Administrative Intern\n",
      "JobRequirment                                                         NaN\n",
      "JobDescription                                                        NaN\n",
      "RequiredQual                                                          NaN\n",
      "JobDescription_token                                                [nan]\n",
      "RequiredQual_token                                                  [nan]\n",
      "JobRequirment_token                                                 [nan]\n",
      "Name: 11, dtype: object\n",
      "SIMILARITY SCORE:  0.6341958584375367\n",
      "jobpost                 International Research & Exchanges Board (IREX...\n",
      "Title                      Non-paid part or full time Programmatic Intern\n",
      "JobRequirment                                                         NaN\n",
      "JobDescription                                                        NaN\n",
      "RequiredQual                                                          NaN\n",
      "JobDescription_token                                                [nan]\n",
      "RequiredQual_token                                                  [nan]\n",
      "JobRequirment_token                                                 [nan]\n",
      "Name: 7, dtype: object\n",
      "SIMILARITY SCORE:  0.626042774801512\n"
     ]
    }
   ],
   "source": [
    "for index, score in find_similar_jobs_tfidf(1):\n",
    "    print(df1.iloc[index])\n",
    "    print(\"SIMILARITY SCORE: \", score)"
   ]
  },
  {
   "cell_type": "markdown",
   "metadata": {},
   "source": [
    "# Caucasus Environmental NGO Network job"
   ]
  },
  {
   "cell_type": "code",
   "execution_count": 204,
   "metadata": {},
   "outputs": [
    {
     "data": {
      "text/plain": [
       "jobpost                 Caucasus Environmental NGO Network (CENN)\\nJOB...\n",
       "Title                                                 Country Coordinator\n",
       "JobRequirment           - Working with the Country Director to provide...\n",
       "JobDescription          Public outreach and strengthening of a growing...\n",
       "RequiredQual            - Degree in environmentally related field, or ...\n",
       "JobDescription_token    [Public, outreach, and, strengthening, of, a, ...\n",
       "RequiredQual_token      [-, Degree, in, environmentally, related, fiel...\n",
       "JobRequirment_token     [-, Working, with, the, Country, Director, to,...\n",
       "Name: 2, dtype: object"
      ]
     },
     "execution_count": 204,
     "metadata": {},
     "output_type": "execute_result"
    }
   ],
   "source": [
    "df1.iloc[2]"
   ]
  },
  {
   "cell_type": "code",
   "execution_count": 205,
   "metadata": {},
   "outputs": [
    {
     "name": "stdout",
     "output_type": "stream",
     "text": [
      "jobpost                 Caucasus Environmental NGO Network\\nTITLE:  Co...\n",
      "Title                                       Country Coordinator - Armenia\n",
      "JobRequirment           -  Write first hand articles, conduct intervie...\n",
      "JobDescription          CENN - Caucasus Environmental NGO Network - is...\n",
      "RequiredQual            1. Education: University education in environm...\n",
      "JobDescription_token    [CENN, -, Caucasus, Environmental, NGO, Networ...\n",
      "RequiredQual_token      [1, ., Education, :, University, education, in...\n",
      "JobRequirment_token     [-, Write, first, hand, articles, ,, conduct, ...\n",
      "Name: 404, dtype: object\n",
      "SIMILARITY SCORE:  0.43463797719195596\n",
      "jobpost                 Veya  Ltd.\\n\\n\\nTITLE:  Country Coordinator\\n\\...\n",
      "Title                                                 Country Coordinator\n",
      "JobRequirment           - Negotiate with potential customers;\\n- Lobby...\n",
      "JobDescription          Veya Ltd. is looking for a qualified Country\\n...\n",
      "RequiredQual            - At least 5 years of experience in project ma...\n",
      "JobDescription_token    [Veya, Ltd., is, looking, for, a, qualified, C...\n",
      "RequiredQual_token      [-, At, least, 5, years, of, experience, in, p...\n",
      "JobRequirment_token     [-, Negotiate, with, potential, customers, ;, ...\n",
      "Name: 18907, dtype: object\n",
      "SIMILARITY SCORE:  0.31018486230498576\n",
      "jobpost                 Veya Limited\\nTITLE:  Country Coordinator\\nANN...\n",
      "Title                                                 Country Coordinator\n",
      "JobRequirment           - Coordinate activities of the office and staf...\n",
      "JobDescription          Veya Limited needs an experienced Business Man...\n",
      "RequiredQual            - University degree in Middle East Studies, In...\n",
      "JobDescription_token    [Veya, Limited, needs, an, experienced, Busine...\n",
      "RequiredQual_token      [-, University, degree, in, Middle, East, Stud...\n",
      "JobRequirment_token     [-, Coordinate, activities, of, the, office, a...\n",
      "Name: 13497, dtype: object\n",
      "SIMILARITY SCORE:  0.2911311413535147\n",
      "jobpost                 UNFPA\\nTITLE:  Country Action Coordinator\\nDUR...\n",
      "Title                                          Country Action Coordinator\n",
      "JobRequirment           - Provide support in design and implementation...\n",
      "JobDescription          UNFPA, with funding by the European Union, is ...\n",
      "RequiredQual            - Masters degree in Business, Management, Soci...\n",
      "JobDescription_token    [UNFPA, ,, with, funding, by, the, European, U...\n",
      "RequiredQual_token      [-, Masters, degree, in, Business, ,, Manageme...\n",
      "JobRequirment_token     [-, Provide, support, in, design, and, impleme...\n",
      "Name: 2325, dtype: object\n",
      "SIMILARITY SCORE:  0.27442544425032545\n",
      "jobpost                 PricewaterhouseCoopers Limited\\nTITLE:  Countr...\n",
      "Title                                                     Country Manager\n",
      "JobRequirment           - Take all the necessary steps to ensure a wel...\n",
      "JobDescription          Our client, one of the largest group of compan...\n",
      "RequiredQual            - Results-oriented and hands-on professional;\\...\n",
      "JobDescription_token    [Our, client, ,, one, of, the, largest, group,...\n",
      "RequiredQual_token      [-, Results-oriented, and, hands-on, professio...\n",
      "JobRequirment_token     [-, Take, all, the, necessary, steps, to, ensu...\n",
      "Name: 1732, dtype: object\n",
      "SIMILARITY SCORE:  0.2721907935199034\n"
     ]
    }
   ],
   "source": [
    "for index, score in find_similar_jobs_tfidf(2):\n",
    "    print(df1.iloc[index])\n",
    "    print(\"SIMILARITY SCORE: \", score)"
   ]
  },
  {
   "cell_type": "markdown",
   "metadata": {},
   "source": [
    "# Using Pretrained Word2Vec Embedding "
   ]
  },
  {
   "cell_type": "code",
   "execution_count": 206,
   "metadata": {},
   "outputs": [
    {
     "name": "stdout",
     "output_type": "stream",
     "text": [
      "DOC1:\n",
      "Chief Financial Officer \n",
      "\n",
      "DOC2:\n",
      " Country Coordinator \n",
      "\n",
      " 0.5695963298609183\n"
     ]
    }
   ],
   "source": [
    "# Original text - Title\n",
    "doc1 = nlp(df1.iloc[0]['Title'])\n",
    "doc2 = nlp(df1.iloc[2]['Title'])\n",
    "similarity = doc1.similarity(doc2)\n",
    "print(\"DOC1:\\n\" + doc1.text, \"\\n\\nDOC2:\\n\", doc2.text, \"\\n\\n\", similarity)"
   ]
  },
  {
   "cell_type": "code",
   "execution_count": 207,
   "metadata": {},
   "outputs": [
    {
     "name": "stdout",
     "output_type": "stream",
     "text": [
      "DOC1:\n",
      "To perform this job successfully, an\n",
      "individual must be able to perform each essential duty satisfactorily.\n",
      "The requirements listed below are representative of the knowledge,\n",
      "skill, and/or ability required.\n",
      "Knowledge of:\n",
      "- Generally accepted accounting principles;\n",
      "- Local accounting standards and legislation;\n",
      "- State reporting requirements pertaining to accounting;\n",
      "- Principles and practices of financial management and budgeting;\n",
      "- Principles and practices of financial systems design and analysis;\n",
      "- Principles and practices of contract management, records management,\n",
      "and risk management;\n",
      "- Principles and practices of management and supervision;\n",
      "- Principles and practices of information systems management.\n",
      "Ability to:\n",
      "- Apply sound fiscal and administrative practices to the company's\n",
      "activities;\n",
      "- Plan, organize and supervise the work of subordinate employees,\n",
      "including training them, assigning and evaluating their work, and\n",
      "providing job performance feedback;\n",
      "- Critically analyze fiscal and administrative policies, practices,\n",
      "procedures, and systems, and recommend and implement changes as needed;\n",
      "- Gather and synthesize financial information from a variety of sources\n",
      "and present it to a variety of audiences with differing financial\n",
      "management and analysis expertise;\n",
      "- Prepare detailed, comprehensive financial reports, including\n",
      "explanatory text;\n",
      "- Operate IBM-compatible personal computer, including word processing,\n",
      "spreadsheet, and database software applications;\n",
      "- Operate specialized software applications that support the financial\n",
      "management and budgeting functions.\n",
      "Qualifications:\n",
      "- A minimum of 5-7 years Accounting/ Corporate Finance/ Banking\n",
      "experience, including a role as a CFO;\n",
      "- Excellent finance and accounting technical skills coupled with a\n",
      "demonstrated knowledge of all key financial functions in an consulting\n",
      "company context - accounting, finance, control, treasury, reserving, and\n",
      "reporting;\n",
      "- Strong financial planning and analytical skills and experience and the\n",
      "ability to work closely with and support the CEO and other executives in\n",
      "strategic development and implementation;\n",
      "- Excellent leadership, management and supervisory track record of\n",
      "attracting, selecting, developing, rewarding and retaining high-caliber,\n",
      "accounting and finance executive and teams who achieve business goals;\n",
      "- An undergraduate degree in finance, business, or other related\n",
      "discipline is required. A CPA, CFA, ACCA or other financial\n",
      "certification is highly preferred, as is a Masters degree in Business\n",
      "Administration, Accounting or Finance;\n",
      "- Fluency in English, Armenian and Russian with outstanding writing\n",
      "skills;\n",
      "- Excellent analytical, communication, teamwork, interpersonal skills;\n",
      "- Need to be well organized and detail-oriented as well as goal/ result\n",
      "driven and able to deal with complex issues. \n",
      "\n",
      "DOC2:\n",
      " - Degree in environmentally related field, or 5 years relevant\n",
      "experience;\n",
      "- Oral and written fluency in Armenian, Russian and English;\n",
      "- Knowledge/ experience of working with environmental issues specific to\n",
      "Armenia is a plus.\n",
      "REMUNERATION:  Salary commensurate with experience. \n",
      "\n",
      " 0.9124071074102973\n"
     ]
    }
   ],
   "source": [
    "# Original text - RequiredQual\n",
    "doc1 = nlp(df1.iloc[0]['RequiredQual'])\n",
    "doc2 = nlp(df1.iloc[2]['RequiredQual'])\n",
    "similarity = doc1.similarity(doc2)\n",
    "print(\"DOC1:\\n\" + doc1.text, \"\\n\\nDOC2:\\n\", doc2.text, \"\\n\\n\", similarity)"
   ]
  },
  {
   "cell_type": "code",
   "execution_count": 208,
   "metadata": {},
   "outputs": [
    {
     "name": "stdout",
     "output_type": "stream",
     "text": [
      "DOC1:\n",
      "To perform this job successfully , an individual must be able to perform each essential duty satisfactorily . The requirements listed below are representative of the knowledge , skill , and/or ability required . Knowledge of : - Generally accepted accounting principles ; - Local accounting standards and legislation ; - State reporting requirements pertaining to accounting ; - Principles and practices of financial management and budgeting ; - Principles and practices of financial systems design and analysis ; - Principles and practices of contract management , records management , and risk management ; - Principles and practices of management and supervision ; - Principles and practices of information systems management . Ability to : - Apply sound fiscal and administrative practices to the company's activities ; - Plan , organize and supervise the work of subordinate employees , including training them , assigning and evaluating their work , and providing job performance feedback ; - Critically analyze fiscal and administrative policies , practices , procedures , and systems , and recommend and implement changes as needed ; - Gather and synthesize financial information from a variety of sources and present it to a variety of audiences with differing financial management and analysis expertise ; - Prepare detailed , comprehensive financial reports , including explanatory text ; - Operate IBM-compatible personal computer , including word processing , spreadsheet , and database software applications ; - Operate specialized software applications that support the financial management and budgeting functions . Qualifications : - A minimum of 5-7 years Accounting/ Corporate Finance/ Banking experience , including a role as a CFO ; - Excellent finance and accounting technical skills coupled with a demonstrated knowledge of all key financial functions in an consulting company context - accounting , finance , control , treasury , reserving , and reporting ; - Strong financial planning and analytical skills and experience and the ability to work closely with and support the CEO and other executives in strategic development and implementation ; - Excellent leadership , management and supervisory track record of attracting , selecting , developing , rewarding and retaining high-caliber , accounting and finance executive and teams who achieve business goals ; - An undergraduate degree in finance , business , or other related discipline is required . A CPA , CFA , ACCA or other financial certification is highly preferred , as is a Masters degree in Business Administration , Accounting or Finance ; - Fluency in English , Armenian and Russian with outstanding writing skills ; - Excellent analytical , communication , teamwork , interpersonal skills ; - Need to be well organized and detail-oriented as well as goal/ result driven and able to deal with complex issues . \n",
      "\n",
      "DOC2:\n",
      " - Degree in environmentally related field , or 5 years relevant experience ; - Oral and written fluency in Armenian , Russian and English ; - Knowledge/ experience of working with environmental issues specific to Armenia is a plus . REMUNERATION : Salary commensurate with experience . \n",
      "\n",
      " 0.8956581128629968\n"
     ]
    }
   ],
   "source": [
    "# removing stopwords and punctuations\n",
    "doc1 = nlp(' '.join(df1.iloc[0]['RequiredQual_token']))\n",
    "doc2 = nlp(' '.join(df1.iloc[2]['RequiredQual_token']))\n",
    "similarity = doc1.similarity(doc2)\n",
    "print(\"DOC1:\\n\" + doc1.text, \"\\n\\nDOC2:\\n\", doc2.text, \"\\n\\n\", similarity)"
   ]
  },
  {
   "cell_type": "markdown",
   "metadata": {},
   "source": [
    "# POS + RegexMatcher"
   ]
  },
  {
   "cell_type": "code",
   "execution_count": 209,
   "metadata": {},
   "outputs": [],
   "source": [
    "matcher = Matcher(nlp.vocab)"
   ]
  },
  {
   "cell_type": "code",
   "execution_count": 210,
   "metadata": {},
   "outputs": [],
   "source": [
    "def collect_sents(matcher, doc, i, matches):\n",
    "    match_id, start, end = matches[i]\n",
    "    span = doc[start : end]  # matched span\n",
    "    sent = span.sent  # sentence containing matched span\n",
    "    match_ents = [{'start': span.start_char - sent.start_char,\n",
    "                   'end': span.end_char - sent.start_char,\n",
    "                   'label': 'MATCH'}]\n",
    "    matched_sents.append({'text': sent.text, 'ents': match_ents })"
   ]
  },
  {
   "cell_type": "code",
   "execution_count": 211,
   "metadata": {},
   "outputs": [],
   "source": [
    "patn1 = [{'POS':'ADJ'},{'ORTH': '-'}, {'POS':'NOUN', 'OP':'+'}, {'LOWER': 'organization'}]\n",
    "patn2 = [{'POS':'NOUN', 'OP':'+'}, {'LOWER': 'organization'}]\n",
    "patn3 = [{'POS':'NOUN', 'OP':'+'}, {'LOWER': 'company'}]\n",
    "patn4 = [{'POS':'NOUN', 'OP':'+'}, {'LOWER': 'services'}]\n",
    "patn5 = [{'LOWER': 'company'}, {'POS':'VERB'}, {'POS':'NOUN', 'OP':'+'}]\n",
    "patn6 = [{'LOWER':'provider'}, {'POS':'ADP'}, {'POS':'NOUN',  'OP': '+'}  , {'POS':'CCONJ','OP':'+'}, {'POS':'NOUN','OP':'+'}]\n",
    "patn7 = [{'LOWER':'provider'}, {'POS':'ADP'}, {'POS':'NOUN',  'OP': '+'}]\n",
    "patn8 = [{'POS':'VERB'}, {'POS':'NOUN',  'OP': '+'} ]\n",
    "patn9 = [{'POS':'ADJ'}, {'POS':'NOUN',  'OP': '+'} ]\n",
    "patn10 = [{'POS':'NOUN'}, {'POS':'ADP'}, {'POS':'NOUN',  'OP': '+'} ]\n",
    "patn11 = [{'POS':'NOUN'}, {'POS':'NOUN','OP':'+'} ]"
   ]
  },
  {
   "cell_type": "code",
   "execution_count": 212,
   "metadata": {},
   "outputs": [],
   "source": [
    "matcher.add('all', collect_sents, patn1, patn2, patn3, patn4, patn5, patn6, patn7, patn8, patn9, patn10, patn11)"
   ]
  },
  {
   "cell_type": "code",
   "execution_count": 213,
   "metadata": {},
   "outputs": [],
   "source": [
    "# RequiredQual\n",
    "for job1_idx in range(df1.shape[0]):\n",
    "    matched_sents = []\n",
    "    keywords = []\n",
    "    t = re.sub(r'\\s+', ' ', str(df1.iloc[job1_idx]['RequiredQual']))\n",
    "    doc = nlp(t)\n",
    "    matches = matcher(doc)\n",
    "    for match_id, start, end in matches:\n",
    "        string_id = nlp.vocab.strings[match_id]  # get string representation\n",
    "        span = doc[start:end]  # the matched span\n",
    "        keywords.append(span.text)\n",
    "    df1.set_value(job1_idx, 'RequiredQual_keywords', \" \".join(keywords))"
   ]
  },
  {
   "cell_type": "code",
   "execution_count": 214,
   "metadata": {},
   "outputs": [],
   "source": [
    "# JobDescription\n",
    "for job1_idx in range(df1.shape[0]):\n",
    "    matched_sents = []\n",
    "    keywords = []\n",
    "    t = re.sub(r'\\s+', ' ', str(df1.iloc[job1_idx]['JobDescription']))\n",
    "    doc = nlp(t)\n",
    "    matches = matcher(doc)\n",
    "    for match_id, start, end in matches:\n",
    "        string_id = nlp.vocab.strings[match_id]  # get string representation\n",
    "        span = doc[start:end]  # the matched span\n",
    "        keywords.append(span.text)\n",
    "    df1.set_value(job1_idx, 'JobDescription_keywords', \" \".join(keywords))"
   ]
  },
  {
   "cell_type": "code",
   "execution_count": 215,
   "metadata": {},
   "outputs": [],
   "source": [
    "# JobRequirment\n",
    "for job1_idx in range(df1.shape[0]):\n",
    "    matched_sents = []\n",
    "    keywords = []\n",
    "    t = re.sub(r'\\s+', ' ', str(df1.iloc[job1_idx]['JobRequirment']))\n",
    "    doc = nlp(t)\n",
    "    matches = matcher(doc)\n",
    "    for match_id, start, end in matches:\n",
    "        string_id = nlp.vocab.strings[match_id]  # get string representation\n",
    "        span = doc[start:end]  # the matched span\n",
    "        keywords.append(span.text)\n",
    "    df1.set_value(job1_idx, 'JobRequirment_keywords', \" \".join(keywords))"
   ]
  },
  {
   "cell_type": "code",
   "execution_count": 216,
   "metadata": {},
   "outputs": [
    {
     "data": {
      "text/html": [
       "<div>\n",
       "<style scoped>\n",
       "    .dataframe tbody tr th:only-of-type {\n",
       "        vertical-align: middle;\n",
       "    }\n",
       "\n",
       "    .dataframe tbody tr th {\n",
       "        vertical-align: top;\n",
       "    }\n",
       "\n",
       "    .dataframe thead th {\n",
       "        text-align: right;\n",
       "    }\n",
       "</style>\n",
       "<table border=\"1\" class=\"dataframe\">\n",
       "  <thead>\n",
       "    <tr style=\"text-align: right;\">\n",
       "      <th></th>\n",
       "      <th>jobpost</th>\n",
       "      <th>Title</th>\n",
       "      <th>JobRequirment</th>\n",
       "      <th>JobDescription</th>\n",
       "      <th>RequiredQual</th>\n",
       "      <th>JobDescription_token</th>\n",
       "      <th>RequiredQual_token</th>\n",
       "      <th>JobRequirment_token</th>\n",
       "      <th>RequiredQual_keywords</th>\n",
       "      <th>JobDescription_keywords</th>\n",
       "      <th>JobRequirment_keywords</th>\n",
       "    </tr>\n",
       "  </thead>\n",
       "  <tbody>\n",
       "    <tr>\n",
       "      <td>0</td>\n",
       "      <td>AMERIA Investment Consulting Company\\nJOB TITL...</td>\n",
       "      <td>Chief Financial Officer</td>\n",
       "      <td>- Supervises financial management and administ...</td>\n",
       "      <td>AMERIA Investment Consulting Company is seekin...</td>\n",
       "      <td>To perform this job successfully, an\\nindividu...</td>\n",
       "      <td>[AMERIA, Investment, Consulting, Company, is, ...</td>\n",
       "      <td>[To, perform, this, job, successfully, ,, an, ...</td>\n",
       "      <td>[-, Supervises, financial, management, and, ad...</td>\n",
       "      <td>essential duty accepted accounting accepted ac...</td>\n",
       "      <td>administrative functions complex staff complex...</td>\n",
       "      <td>financial management administrative staff incl...</td>\n",
       "    </tr>\n",
       "    <tr>\n",
       "      <td>1</td>\n",
       "      <td>International Research &amp; Exchanges Board (IREX...</td>\n",
       "      <td>Full-time Community Connections Intern (paid i...</td>\n",
       "      <td>NaN</td>\n",
       "      <td>NaN</td>\n",
       "      <td>- Bachelor's Degree; Master's is preferred;\\n-...</td>\n",
       "      <td>[nan]</td>\n",
       "      <td>[-, Bachelor, 's, Degree, ;, Master, 's, is, p...</td>\n",
       "      <td>[nan]</td>\n",
       "      <td>Excellent skills Armenian languages Armenian t...</td>\n",
       "      <td></td>\n",
       "      <td></td>\n",
       "    </tr>\n",
       "    <tr>\n",
       "      <td>2</td>\n",
       "      <td>Caucasus Environmental NGO Network (CENN)\\nJOB...</td>\n",
       "      <td>Country Coordinator</td>\n",
       "      <td>- Working with the Country Director to provide...</td>\n",
       "      <td>Public outreach and strengthening of a growing...</td>\n",
       "      <td>- Degree in environmentally related field, or ...</td>\n",
       "      <td>[Public, outreach, and, strengthening, of, a, ...</td>\n",
       "      <td>[-, Degree, in, environmentally, related, fiel...</td>\n",
       "      <td>[-, Working, with, the, Country, Director, to,...</td>\n",
       "      <td>related field relevant experience written flue...</td>\n",
       "      <td>Public outreach growing network international ...</td>\n",
       "      <td>environmental information general public elect...</td>\n",
       "    </tr>\n",
       "    <tr>\n",
       "      <td>3</td>\n",
       "      <td>Manoff Group\\nJOB TITLE:  BCC Specialist\\nPOSI...</td>\n",
       "      <td>BCC Specialist</td>\n",
       "      <td>- Identify gaps in knowledge and overseeing in...</td>\n",
       "      <td>The LEAD (Local Enhancement and Development fo...</td>\n",
       "      <td>- Advanced degree in public health, social sci...</td>\n",
       "      <td>[The, LEAD, (, Local, Enhancement, and, Develo...</td>\n",
       "      <td>[-, Advanced, degree, in, public, health, ,, s...</td>\n",
       "      <td>[-, Identify, gaps, in, knowledge, and, overse...</td>\n",
       "      <td>Advanced degree public health social science r...</td>\n",
       "      <td>apply state art approaches address provider ca...</td>\n",
       "      <td>Identify gaps gaps in knowledge overseeing inf...</td>\n",
       "    </tr>\n",
       "    <tr>\n",
       "      <td>4</td>\n",
       "      <td>Yerevan Brandy Company\\nJOB TITLE:  Software D...</td>\n",
       "      <td>Software Developer</td>\n",
       "      <td>- Rendering technical assistance to Database M...</td>\n",
       "      <td>NaN</td>\n",
       "      <td>- University degree; economical background is ...</td>\n",
       "      <td>[nan]</td>\n",
       "      <td>[-, University, degree, ;, economical, backgro...</td>\n",
       "      <td>[-, Rendering, technical, assistance, to, Data...</td>\n",
       "      <td>economical background Excellent knowledge year...</td>\n",
       "      <td></td>\n",
       "      <td>technical assistance servers maintenance serve...</td>\n",
       "    </tr>\n",
       "  </tbody>\n",
       "</table>\n",
       "</div>"
      ],
      "text/plain": [
       "                                             jobpost  \\\n",
       "0  AMERIA Investment Consulting Company\\nJOB TITL...   \n",
       "1  International Research & Exchanges Board (IREX...   \n",
       "2  Caucasus Environmental NGO Network (CENN)\\nJOB...   \n",
       "3  Manoff Group\\nJOB TITLE:  BCC Specialist\\nPOSI...   \n",
       "4  Yerevan Brandy Company\\nJOB TITLE:  Software D...   \n",
       "\n",
       "                                               Title  \\\n",
       "0                            Chief Financial Officer   \n",
       "1  Full-time Community Connections Intern (paid i...   \n",
       "2                                Country Coordinator   \n",
       "3                                     BCC Specialist   \n",
       "4                                 Software Developer   \n",
       "\n",
       "                                       JobRequirment  \\\n",
       "0  - Supervises financial management and administ...   \n",
       "1                                                NaN   \n",
       "2  - Working with the Country Director to provide...   \n",
       "3  - Identify gaps in knowledge and overseeing in...   \n",
       "4  - Rendering technical assistance to Database M...   \n",
       "\n",
       "                                      JobDescription  \\\n",
       "0  AMERIA Investment Consulting Company is seekin...   \n",
       "1                                                NaN   \n",
       "2  Public outreach and strengthening of a growing...   \n",
       "3  The LEAD (Local Enhancement and Development fo...   \n",
       "4                                                NaN   \n",
       "\n",
       "                                        RequiredQual  \\\n",
       "0  To perform this job successfully, an\\nindividu...   \n",
       "1  - Bachelor's Degree; Master's is preferred;\\n-...   \n",
       "2  - Degree in environmentally related field, or ...   \n",
       "3  - Advanced degree in public health, social sci...   \n",
       "4  - University degree; economical background is ...   \n",
       "\n",
       "                                JobDescription_token  \\\n",
       "0  [AMERIA, Investment, Consulting, Company, is, ...   \n",
       "1                                              [nan]   \n",
       "2  [Public, outreach, and, strengthening, of, a, ...   \n",
       "3  [The, LEAD, (, Local, Enhancement, and, Develo...   \n",
       "4                                              [nan]   \n",
       "\n",
       "                                  RequiredQual_token  \\\n",
       "0  [To, perform, this, job, successfully, ,, an, ...   \n",
       "1  [-, Bachelor, 's, Degree, ;, Master, 's, is, p...   \n",
       "2  [-, Degree, in, environmentally, related, fiel...   \n",
       "3  [-, Advanced, degree, in, public, health, ,, s...   \n",
       "4  [-, University, degree, ;, economical, backgro...   \n",
       "\n",
       "                                 JobRequirment_token  \\\n",
       "0  [-, Supervises, financial, management, and, ad...   \n",
       "1                                              [nan]   \n",
       "2  [-, Working, with, the, Country, Director, to,...   \n",
       "3  [-, Identify, gaps, in, knowledge, and, overse...   \n",
       "4  [-, Rendering, technical, assistance, to, Data...   \n",
       "\n",
       "                               RequiredQual_keywords  \\\n",
       "0  essential duty accepted accounting accepted ac...   \n",
       "1  Excellent skills Armenian languages Armenian t...   \n",
       "2  related field relevant experience written flue...   \n",
       "3  Advanced degree public health social science r...   \n",
       "4  economical background Excellent knowledge year...   \n",
       "\n",
       "                             JobDescription_keywords  \\\n",
       "0  administrative functions complex staff complex...   \n",
       "1                                                      \n",
       "2  Public outreach growing network international ...   \n",
       "3  apply state art approaches address provider ca...   \n",
       "4                                                      \n",
       "\n",
       "                              JobRequirment_keywords  \n",
       "0  financial management administrative staff incl...  \n",
       "1                                                     \n",
       "2  environmental information general public elect...  \n",
       "3  Identify gaps gaps in knowledge overseeing inf...  \n",
       "4  technical assistance servers maintenance serve...  "
      ]
     },
     "execution_count": 216,
     "metadata": {},
     "output_type": "execute_result"
    }
   ],
   "source": [
    "df1.head(5)"
   ]
  },
  {
   "cell_type": "code",
   "execution_count": 217,
   "metadata": {},
   "outputs": [],
   "source": [
    "job_dissimilarity_df = pd.DataFrame(columns=['index', 'similar-job', 'dissimilar-score'])"
   ]
  },
  {
   "cell_type": "code",
   "execution_count": 218,
   "metadata": {},
   "outputs": [],
   "source": [
    "for job1_idx in range(3):  # rows\n",
    "    for job2_idx in range(1000):\n",
    "\n",
    "        doc1 = nlp(df1.iloc[job1_idx]['Title'])\n",
    "        doc2 = nlp(str(df1.iloc[job2_idx]['Title']))\n",
    "        title_similarity = doc1.similarity(doc2)\n",
    "        \n",
    "        doc1 = nlp(df1.iloc[job1_idx]['JobDescription_keywords'])\n",
    "        doc2 = nlp(df1.iloc[job2_idx]['JobDescription_keywords'])\n",
    "        jd_similarity = doc1.similarity(doc2)\n",
    "        \n",
    "        doc1 = nlp(df1.iloc[job1_idx]['JobRequirment_keywords'])\n",
    "        doc2 = nlp(df1.iloc[job2_idx]['JobRequirment_keywords'])\n",
    "        jr_similarity = doc1.similarity(doc2)\n",
    "        \n",
    "        doc1 = nlp(df1.iloc[job1_idx]['RequiredQual_keywords'])\n",
    "        doc2 = nlp(df1.iloc[job2_idx]['RequiredQual_keywords'])\n",
    "        rq_similarity = doc1.similarity(doc2)\n",
    "        \n",
    "        averaged_score = (title_similarity + jd_similarity + jr_similarity + rq_similarity) / 4.0\n",
    "        job_dissimilarity_df = job_dissimilarity_df.append({'index': job1_idx, 'similar-job': job2_idx, 'dissimilar-score': (1-averaged_score)},ignore_index=True)"
   ]
  },
  {
   "cell_type": "code",
   "execution_count": 219,
   "metadata": {},
   "outputs": [
    {
     "data": {
      "text/html": [
       "<div>\n",
       "<style scoped>\n",
       "    .dataframe tbody tr th:only-of-type {\n",
       "        vertical-align: middle;\n",
       "    }\n",
       "\n",
       "    .dataframe tbody tr th {\n",
       "        vertical-align: top;\n",
       "    }\n",
       "\n",
       "    .dataframe thead th {\n",
       "        text-align: right;\n",
       "    }\n",
       "</style>\n",
       "<table border=\"1\" class=\"dataframe\">\n",
       "  <thead>\n",
       "    <tr style=\"text-align: right;\">\n",
       "      <th></th>\n",
       "      <th>index</th>\n",
       "      <th>similar-job</th>\n",
       "      <th>dissimilar-score</th>\n",
       "    </tr>\n",
       "  </thead>\n",
       "  <tbody>\n",
       "    <tr>\n",
       "      <td>0</td>\n",
       "      <td>0.0</td>\n",
       "      <td>0.0</td>\n",
       "      <td>0.000000</td>\n",
       "    </tr>\n",
       "    <tr>\n",
       "      <td>697</td>\n",
       "      <td>0.0</td>\n",
       "      <td>697.0</td>\n",
       "      <td>0.045436</td>\n",
       "    </tr>\n",
       "    <tr>\n",
       "      <td>302</td>\n",
       "      <td>0.0</td>\n",
       "      <td>302.0</td>\n",
       "      <td>0.086393</td>\n",
       "    </tr>\n",
       "    <tr>\n",
       "      <td>234</td>\n",
       "      <td>0.0</td>\n",
       "      <td>234.0</td>\n",
       "      <td>0.098685</td>\n",
       "    </tr>\n",
       "    <tr>\n",
       "      <td>126</td>\n",
       "      <td>0.0</td>\n",
       "      <td>126.0</td>\n",
       "      <td>0.111020</td>\n",
       "    </tr>\n",
       "    <tr>\n",
       "      <td>...</td>\n",
       "      <td>...</td>\n",
       "      <td>...</td>\n",
       "      <td>...</td>\n",
       "    </tr>\n",
       "    <tr>\n",
       "      <td>2011</td>\n",
       "      <td>2.0</td>\n",
       "      <td>11.0</td>\n",
       "      <td>0.901845</td>\n",
       "    </tr>\n",
       "    <tr>\n",
       "      <td>2224</td>\n",
       "      <td>2.0</td>\n",
       "      <td>224.0</td>\n",
       "      <td>0.908497</td>\n",
       "    </tr>\n",
       "    <tr>\n",
       "      <td>2007</td>\n",
       "      <td>2.0</td>\n",
       "      <td>7.0</td>\n",
       "      <td>0.909804</td>\n",
       "    </tr>\n",
       "    <tr>\n",
       "      <td>2068</td>\n",
       "      <td>2.0</td>\n",
       "      <td>68.0</td>\n",
       "      <td>0.912250</td>\n",
       "    </tr>\n",
       "    <tr>\n",
       "      <td>2499</td>\n",
       "      <td>2.0</td>\n",
       "      <td>499.0</td>\n",
       "      <td>0.935554</td>\n",
       "    </tr>\n",
       "  </tbody>\n",
       "</table>\n",
       "<p>3000 rows × 3 columns</p>\n",
       "</div>"
      ],
      "text/plain": [
       "      index  similar-job  dissimilar-score\n",
       "0       0.0          0.0          0.000000\n",
       "697     0.0        697.0          0.045436\n",
       "302     0.0        302.0          0.086393\n",
       "234     0.0        234.0          0.098685\n",
       "126     0.0        126.0          0.111020\n",
       "...     ...          ...               ...\n",
       "2011    2.0         11.0          0.901845\n",
       "2224    2.0        224.0          0.908497\n",
       "2007    2.0          7.0          0.909804\n",
       "2068    2.0         68.0          0.912250\n",
       "2499    2.0        499.0          0.935554\n",
       "\n",
       "[3000 rows x 3 columns]"
      ]
     },
     "execution_count": 219,
     "metadata": {},
     "output_type": "execute_result"
    }
   ],
   "source": [
    "# Top similar jobs\n",
    "job_dissimilarity_df_sorted = job_dissimilarity_df.sort_values(by=['index', 'dissimilar-score'], ascending=[True, True])\n",
    "job_dissimilarity_df_sorted"
   ]
  },
  {
   "cell_type": "code",
   "execution_count": 220,
   "metadata": {},
   "outputs": [
    {
     "name": "stdout",
     "output_type": "stream",
     "text": [
      "jobpost                    AMERIA Investment Consulting Company JOB TITLE...\n",
      "Title                                                Chief Financial Officer\n",
      "JobRequirment              - Supervises financial management and administ...\n",
      "JobDescription             AMERIA Investment Consulting Company is seekin...\n",
      "RequiredQual               To perform this job successfully, an individua...\n",
      "JobDescription_token       [AMERIA, Investment, Consulting, Company, is, ...\n",
      "RequiredQual_token         [To, perform, this, job, successfully, ,, an, ...\n",
      "JobRequirment_token        [-, Supervises, financial, management, and, ad...\n",
      "RequiredQual_keywords      essential duty accepted accounting accepted ac...\n",
      "JobDescription_keywords    administrative functions complex staff complex...\n",
      "JobRequirment_keywords     financial management administrative staff incl...\n",
      "Name: 0, dtype: object\n",
      "jobpost                    Cascade Capital Holdings CJSC TITLE:  Chief Fi...\n",
      "Title                                                Chief Financial Officer\n",
      "JobRequirment              - Create and oversee a financial reporting sys...\n",
      "JobDescription             Cascade Capital Holdings CJSC is looking for a...\n",
      "RequiredQual               - A university degree in the relevant field. A...\n",
      "JobDescription_token       [Cascade, Capital, Holdings, CJSC, is, looking...\n",
      "RequiredQual_token         [-, A, university, degree, in, the, relevant, ...\n",
      "JobRequirment_token        [-, Create, and, oversee, a, financial, report...\n",
      "RequiredQual_keywords      university degree relevant field years experie...\n",
      "JobDescription_keywords    professional candidate successful candidate su...\n",
      "JobRequirment_keywords     financial reporting financial reporting system...\n",
      "Name: 697, dtype: object\n",
      "jobpost                    World Vision Armenia TITLE:  CEDC Social Worke...\n",
      "Title                              CEDC Social Worker in Special Institution\n",
      "JobRequirment              - Conduct individual and group work with child...\n",
      "JobDescription             The following full time position starting as o...\n",
      "RequiredQual               - Bachelor degree in social work;  - Counselli...\n",
      "JobDescription_token       [The, following, full, time, position, startin...\n",
      "RequiredQual_token         [-, Bachelor, degree, in, social, work, ;, -, ...\n",
      "JobRequirment_token        [-, Conduct, individual, and, group, work, wit...\n",
      "RequiredQual_keywords      Bachelor degree social work Counselling skills...\n",
      "JobDescription_keywords    full time full time position time position fir...\n",
      "JobRequirment_keywords     Conduct individual group work work with childr...\n",
      "Name: 302, dtype: object\n",
      "jobpost                    Conservation International TITLE:  Financial A...\n",
      "Title                                                      Financial Analyst\n",
      "JobRequirment              - Lead or support financial analysis and speci...\n",
      "JobDescription             The position assists with the financial analys...\n",
      "RequiredQual               - Education: 4 year degree. - Years of experie...\n",
      "JobDescription_token       [The, position, assists, with, the, financial,...\n",
      "RequiredQual_token         [-, Education, :, 4, year, degree, ., -, Years...\n",
      "JobRequirment_token        [-, Lead, or, support, financial, analysis, an...\n",
      "RequiredQual_keywords      year degree Years of experience financial info...\n",
      "JobDescription_keywords    financial analysis financial management financ...\n",
      "JobRequirment_keywords     financial analysis special projects financial ...\n",
      "Name: 234, dtype: object\n",
      "jobpost                    ABSER Ltd. JOB TITLE:   Financial Manager POSI...\n",
      "Title                                                      Financial Manager\n",
      "JobRequirment              - Manage all financial matters pertaining to t...\n",
      "JobDescription             ABSER Ltd. is looking for a personality to rec...\n",
      "RequiredQual               - Strong analytical skills, ability to make re...\n",
      "JobDescription_token       [ABSER, Ltd., is, looking, for, a, personality...\n",
      "RequiredQual_token         [-, Strong, analytical, skills, ,, ability, to...\n",
      "JobRequirment_token        [-, Manage, all, financial, matters, pertainin...\n",
      "RequiredQual_keywords      analytical skills make recommendations present...\n",
      "JobDescription_keywords    area of car area of car service car service fi...\n",
      "JobRequirment_keywords     financial matters strategic plans Marketing da...\n",
      "Name: 126, dtype: object\n",
      "jobpost                    World Vision Armenin TITLE:  Human Resource De...\n",
      "Title                                      Human Resource Department Manager\n",
      "JobRequirment              In line with the country strategy develop an H...\n",
      "JobDescription             Manage the human resources services and functi...\n",
      "RequiredQual               - A university degree in HR, social sciences o...\n",
      "JobDescription_token       [Manage, the, human, resources, services, and,...\n",
      "RequiredQual_token         [-, A, university, degree, in, HR, ,, social, ...\n",
      "JobRequirment_token        [In, line, with, the, country, strategy, devel...\n",
      "RequiredQual_keywords      university degree degree in HR social sciences...\n",
      "JobDescription_keywords    human resources resources services human resou...\n",
      "JobRequirment_keywords     country strategy HR strategy committed team ef...\n",
      "Name: 311, dtype: object\n"
     ]
    }
   ],
   "source": [
    "# Show top 5 similar results to job - Ameria Investment Consulting Job\n",
    "similar_jobs = job_dissimilarity_df_sorted.loc[job_dissimilarity_df_sorted['index'] == 0].head(6)['similar-job'].tolist()\n",
    "\n",
    "for job in similar_jobs:\n",
    "    print(df1.iloc[int(job)].replace(r'\\n',' ', regex=True))"
   ]
  },
  {
   "cell_type": "code",
   "execution_count": 221,
   "metadata": {},
   "outputs": [
    {
     "name": "stdout",
     "output_type": "stream",
     "text": [
      "jobpost                    International Research & Exchanges Board (IREX...\n",
      "Title                      Full-time Community Connections Intern (paid i...\n",
      "JobRequirment                                                            NaN\n",
      "JobDescription                                                           NaN\n",
      "RequiredQual               - Bachelor's Degree; Master's is preferred; - ...\n",
      "JobDescription_token                                                   [nan]\n",
      "RequiredQual_token         [-, Bachelor, 's, Degree, ;, Master, 's, is, p...\n",
      "JobRequirment_token                                                    [nan]\n",
      "RequiredQual_keywords      Excellent skills Armenian languages Armenian t...\n",
      "JobDescription_keywords                                                     \n",
      "JobRequirment_keywords                                                      \n",
      "Name: 1, dtype: object\n",
      "jobpost                    Valensia Expo JOB TITLE:   Marketing Specialis...\n",
      "Title                                 Marketing Specialist, Commodity Export\n",
      "JobRequirment                                                            NaN\n",
      "JobDescription             Valensia Expo is looking for a Marketing Speci...\n",
      "RequiredQual               - Postgraduate degree will be considered as a ...\n",
      "JobDescription_token       [Valensia, Expo, is, looking, for, a, Marketin...\n",
      "RequiredQual_token         [-, Postgraduate, degree, will, be, considered...\n",
      "JobRequirment_token                                                    [nan]\n",
      "RequiredQual_keywords      Postgraduate degree Previous work Previous wor...\n",
      "JobDescription_keywords                                                     \n",
      "JobRequirment_keywords                                                      \n",
      "Name: 115, dtype: object\n",
      "jobpost                    Caucasus Research Resource Center - Armenia TI...\n",
      "Title                                          Demographic Analysis Workshop\n",
      "JobRequirment                                                            NaN\n",
      "JobDescription                                                           NaN\n",
      "RequiredQual               Participants should be mid-level professionals...\n",
      "JobDescription_token                                                   [nan]\n",
      "RequiredQual_token         [Participants, should, be, mid-level, professi...\n",
      "JobRequirment_token                                                    [nan]\n",
      "RequiredQual_keywords      level professionals official census demographi...\n",
      "JobDescription_keywords                                                     \n",
      "JobRequirment_keywords                                                      \n",
      "Name: 34, dtype: object\n",
      "jobpost                    Avangard Motors LLC TITLE:  Sales and Marketin...\n",
      "Title                                          Sales and Marketing Assistant\n",
      "JobRequirment                                                            NaN\n",
      "JobDescription                                                           NaN\n",
      "RequiredQual               - Knowledge of IBM PC Operating, including MS ...\n",
      "JobDescription_token                                                   [nan]\n",
      "RequiredQual_token         [-, Knowledge, of, IBM, PC, Operating, ,, incl...\n",
      "JobRequirment_token                                                    [nan]\n",
      "RequiredQual_keywords      Excellent communication analytical skills Exce...\n",
      "JobDescription_keywords                                                     \n",
      "JobRequirment_keywords                                                      \n",
      "Name: 729, dtype: object\n",
      "jobpost                    Mdecins Sans Frontires  Belgium TITLE:  Englis...\n",
      "Title                             English Language Interpreters/ Translators\n",
      "JobRequirment                                                            NaN\n",
      "JobDescription             English Language Interpreters/ Translators wil...\n",
      "RequiredQual               - Higher education in corresponding field. - C...\n",
      "JobDescription_token       [English, Language, Interpreters/, Translators...\n",
      "RequiredQual_token         [-, Higher, education, in, corresponding, fiel...\n",
      "JobRequirment_token                                                    [nan]\n",
      "RequiredQual_keywords      Higher education corresponding field Correspon...\n",
      "JobDescription_keywords                                                     \n",
      "JobRequirment_keywords                                                      \n",
      "Name: 660, dtype: object\n",
      "jobpost                    International Research & Exchanges Board (IREX...\n",
      "Title                                 Administrative and Programmatic Intern\n",
      "JobRequirment                                                            NaN\n",
      "JobDescription                                                           NaN\n",
      "RequiredQual               - Fluency in English and Armenian; - Good comm...\n",
      "JobDescription_token                                                   [nan]\n",
      "RequiredQual_token         [-, Fluency, in, English, and, Armenian, ;, -,...\n",
      "JobRequirment_token                                                    [nan]\n",
      "RequiredQual_keywords      Good communication Good communication skills c...\n",
      "JobDescription_keywords                                                     \n",
      "JobRequirment_keywords                                                      \n",
      "Name: 125, dtype: object\n"
     ]
    }
   ],
   "source": [
    "# Show top 5 similar results to job - International Research & Exchange Board\n",
    "similar_jobs = job_dissimilarity_df_sorted.loc[job_dissimilarity_df_sorted['index'] == 1].head(6)['similar-job'].tolist()\n",
    "\n",
    "for job in similar_jobs:\n",
    "    print(df1.iloc[int(job)].replace(r'\\n',' ', regex=True)) "
   ]
  },
  {
   "cell_type": "code",
   "execution_count": 222,
   "metadata": {},
   "outputs": [
    {
     "name": "stdout",
     "output_type": "stream",
     "text": [
      "jobpost                    Caucasus Environmental NGO Network (CENN)\\nJOB...\n",
      "Title                                                    Country Coordinator\n",
      "JobRequirment              - Working with the Country Director to provide...\n",
      "JobDescription             Public outreach and strengthening of a growing...\n",
      "RequiredQual               - Degree in environmentally related field, or ...\n",
      "JobDescription_token       [Public, outreach, and, strengthening, of, a, ...\n",
      "RequiredQual_token         [-, Degree, in, environmentally, related, fiel...\n",
      "JobRequirment_token        [-, Working, with, the, Country, Director, to,...\n",
      "RequiredQual_keywords      related field relevant experience written flue...\n",
      "JobDescription_keywords    Public outreach growing network international ...\n",
      "JobRequirment_keywords     environmental information general public elect...\n",
      "Name: 2, dtype: object\n",
      "jobpost                    World Vision Armenia\\nTITLE:  Health Coordinat...\n",
      "Title                                                     Health Coordinator\n",
      "JobRequirment              The position is starting in August 2004 and is...\n",
      "JobDescription             Health Coordinator will be responsible for dir...\n",
      "RequiredQual               -\\tExperience of working in the field of publi...\n",
      "JobDescription_token       [Health, Coordinator, will, be, responsible, f...\n",
      "RequiredQual_token         [-, Experience, of, working, in, the, field, o...\n",
      "JobRequirment_token        [The, position, is, starting, in, August, 2004...\n",
      "RequiredQual_keywords      public health international organizations gove...\n",
      "JobDescription_keywords    direct coordination technical monitoring care ...\n",
      "JobRequirment_keywords     National office extensive countrywide extensiv...\n",
      "Name: 448, dtype: object\n",
      "jobpost                    Caucasus Environmental NGO Network\\nTITLE:  Co...\n",
      "Title                                          Country Coordinator - Armenia\n",
      "JobRequirment              -  Write first hand articles, conduct intervie...\n",
      "JobDescription             CENN - Caucasus Environmental NGO Network - is...\n",
      "RequiredQual               1. Education: University education in environm...\n",
      "JobDescription_token       [CENN, -, Caucasus, Environmental, NGO, Networ...\n",
      "RequiredQual_token         [1, ., Education, :, University, education, in...\n",
      "JobRequirment_token        [-, Write, first, hand, articles, ,, conduct, ...\n",
      "RequiredQual_keywords      University education environmental sciences re...\n",
      "JobDescription_keywords                   regional Project regional magazine\n",
      "JobRequirment_keywords     first hand first hand articles hand articles c...\n",
      "Name: 404, dtype: object\n",
      "jobpost                    Energyenvest PIO SI. / The World Bank funded R...\n",
      "Title                                                    Project Coordinator\n",
      "JobRequirment              Under the direct supervision of the Project\\nM...\n",
      "JobDescription             Energyenvest Pio SI is willing to employ a Pro...\n",
      "RequiredQual               - A University degree in energy engineering or...\n",
      "JobDescription_token       [Energyenvest, Pio, SI, is, willing, to, emplo...\n",
      "RequiredQual_token         [-, A, University, degree, in, energy, enginee...\n",
      "JobRequirment_token        [Under, the, direct, supervision, of, the, Pro...\n",
      "RequiredQual_keywords      degree in energy degree in energy engineering ...\n",
      "JobDescription_keywords    renewable energy renewable energy production e...\n",
      "JobRequirment_keywords     direct supervision day lead following job foll...\n",
      "Name: 733, dtype: object\n",
      "jobpost                    World Vision Armenia\\nTITLE:  Health Coordinat...\n",
      "Title                                                     Health Coordinator\n",
      "JobRequirment              - Coordinate the obtaining and/or development/...\n",
      "JobDescription             WORLD VISION ARMENIA announces full-time posit...\n",
      "RequiredQual               Experience:\\nAt least 2 years experience of wo...\n",
      "JobDescription_token       [WORLD, VISION, ARMENIA, announces, full-time,...\n",
      "RequiredQual_token         [Experience, :, At, least, 2, years, experienc...\n",
      "JobRequirment_token        [-, Coordinate, the, obtaining, and/or, develo...\n",
      "RequiredQual_keywords      years experience public health certain focus i...\n",
      "JobDescription_keywords    time position care project direct coordination...\n",
      "JobRequirment_keywords     related guides new training new training mater...\n",
      "Name: 222, dtype: object\n",
      "jobpost                    The American Institutes for Research\\nInternat...\n",
      "Title                                                      Project Associate\n",
      "JobRequirment              - Creating and updating budgets;\\n- Maintainin...\n",
      "JobDescription             The International Development Program of the A...\n",
      "RequiredQual               - Successful candidates will be self-starters ...\n",
      "JobDescription_token       [The, International, Development, Program, of,...\n",
      "RequiredQual_token         [-, Successful, candidates, will, be, self-sta...\n",
      "JobRequirment_token        [-, Creating, and, updating, budgets, ;, -, Ma...\n",
      "RequiredQual_keywords      Successful candidates excellent communication ...\n",
      "JobDescription_keywords    social science social science research science...\n",
      "JobRequirment_keywords     updating budgets financial records annual repo...\n",
      "Name: 153, dtype: object\n"
     ]
    }
   ],
   "source": [
    "# Show top 5 similar results to job - Caucasus Environmental NGO Network\n",
    "similar_jobs = job_dissimilarity_df_sorted.loc[job_dissimilarity_df_sorted['index'] == 2].head(6)['similar-job'].tolist()\n",
    "\n",
    "for job in similar_jobs:\n",
    "    print(df1.iloc[int(job)])"
   ]
  },
  {
   "cell_type": "code",
   "execution_count": null,
   "metadata": {},
   "outputs": [],
   "source": []
  }
 ],
 "metadata": {
  "kernelspec": {
   "display_name": "Python 3",
   "language": "python",
   "name": "python3"
  },
  "language_info": {
   "codemirror_mode": {
    "name": "ipython",
    "version": 3
   },
   "file_extension": ".py",
   "mimetype": "text/x-python",
   "name": "python",
   "nbconvert_exporter": "python",
   "pygments_lexer": "ipython3",
   "version": "3.7.4"
  }
 },
 "nbformat": 4,
 "nbformat_minor": 2
}
